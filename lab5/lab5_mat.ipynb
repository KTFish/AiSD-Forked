{
 "cells": [
  {
   "cell_type": "markdown",
   "metadata": {
    "collapsed": true,
    "pycharm": {
     "name": "#%% md\n"
    }
   },
   "source": [
    "# Lab 5 - rekurencja\n",
    "\n",
    "Rekurencja (rekursja) - metoda rozwiązywania problemów algorytmicznych za pomocą funkcji, która odwołuje się sama do siebie.\n",
    "\n",
    "Rekurencja służy również do zastępowania iteracji w algorytmach, lecz może wpływać niekorzystnie na złożonośc obliczeniową i czasową.\n",
    "Pozostawia jednak dużą wygodę przy implementacji algorytmów.\n",
    "\n",
    "Ważnym elementem rekurencji jest warunek brzegowy, który służy do zakończenia \"autowywoływania\" funkcji."
   ]
  },
  {
   "cell_type": "code",
   "execution_count": null,
   "outputs": [],
   "source": [
    "def rec(i):\n",
    "    # warunek brzegowy - konczymy rekurencje gdy\n",
    "    # wartosc parametru i spadnie ponizej zera\n",
    "    if i < 0:\n",
    "        return\n",
    "\n",
    "    print(f'i: {i}')\n",
    "\n",
    "    rec(i - 1)\n",
    "\n",
    "rec(10) # zaczynamy z parametrem i = 10"
   ],
   "metadata": {
    "collapsed": false,
    "pycharm": {
     "name": "#%%\n"
    }
   }
  },
  {
   "cell_type": "markdown",
   "source": [
    "## Przykład rozwiązywania problemu metodą rekurencyjną\n",
    "\n",
    "Ciąg Fibonacciego\n",
    "\n",
    "Każdy kolejny wyraz ciąg Fibonacciego jest sumą dwóch poprzednich wyrazów, gdzie:\n",
    "- fib(0) = 0\n",
    "- fib(1) = 1\n",
    "\n",
    "Zatem każdy kolejny wyraz można obliczyć następującą formułą: fib(n) = fib(n - 1) + fib(n - 2) dla $n \\ge 2$\n",
    "\n",
    "Wizualizacja stosu dla fib(4):\n",
    "\n",
    "fib(4)   | fib(3)   | fib(2)\n",
    ":-------:|---------:|---------:\n",
    "fib(3)   | fib(2)   | fib(1)\n",
    "fib(2)   | fib(1)   | fib(0)\n",
    "\n",
    "---------------------------->\n",
    "(kierunek stosu)\n",
    "\n",
    "\n",
    "## Zadania do wykonania metodą rekurencyjną\n",
    "\n",
    "1. Zaimplementować funkcję numbers(n: int), która wypisze liczby od n do 0\n",
    "2. Zaimplementować funkcję fib(n: int) -> int, która obliczy n-ty wyraz ciągu Fibonacciego\n",
    "3. Zaimplementować funkcję power(number: int, n: int) -> int, której zadaniem jest zwrócenie wyniku działania $ number^n $ NIE UŻYWAĆ OPERATORA **\n",
    "4. Zaimplementować funkcję reverse(txt: str) -> str, która zwróci odwrócony ciąg znaków przekazany w parametrze txt\n",
    "5. Zaimplementować funkcję factorial(n: int) -> int, która zwróci silnię wartości przekazanej w parametrze\n",
    "6. Zaimplementować funkcję prime(n: int) -> bool, która sprawdzi, czy liczba podana w parametrze jest liczbą pierwszą. Podpowiedź: wystarczy sprawdzić czy n jest podzielne przez wszystkie liczby poprzedzające\n",
    "7. Zaimplementować funkcję n_sums(n: int) -> list[int], która zwróci wszystkie n-cyfrowe liczby o takich samych sumach na indeksach parzystych i nieparzystych. Przykładowo, dla 3 cyfr będą to liczby m.in. 198, 220, 891, 990\n"
   ],
   "metadata": {
    "collapsed": false
   }
  }
 ],
 "metadata": {
  "kernelspec": {
   "display_name": "Python 3",
   "language": "python",
   "name": "python3"
  },
  "language_info": {
   "codemirror_mode": {
    "name": "ipython",
    "version": 2
   },
   "file_extension": ".py",
   "mimetype": "text/x-python",
   "name": "python",
   "nbconvert_exporter": "python",
   "pygments_lexer": "ipython2",
   "version": "2.7.6"
  }
 },
 "nbformat": 4,
 "nbformat_minor": 0
}