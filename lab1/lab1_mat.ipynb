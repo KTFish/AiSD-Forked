{
 "cells": [
  {
   "cell_type": "markdown",
   "metadata": {
    "collapsed": true,
    "pycharm": {
     "name": "#%% md\n"
    }
   },
   "source": [
    "# Lab 1 - podstawy języka Python\n",
    "\n",
    "## Wyświetlanie danych\n",
    "\n",
    "Do wyświetlania danych służy funkcja print()"
   ]
  },
  {
   "cell_type": "code",
   "execution_count": 1,
   "outputs": [
    {
     "name": "stdout",
     "output_type": "stream",
     "text": [
      "hej!\n"
     ]
    }
   ],
   "source": [
    "print('hej!')"
   ],
   "metadata": {
    "collapsed": false,
    "pycharm": {
     "name": "#%%\n"
    }
   }
  },
  {
   "cell_type": "code",
   "execution_count": 2,
   "outputs": [
    {
     "name": "stdout",
     "output_type": "stream",
     "text": [
      "10\n"
     ]
    }
   ],
   "source": [
    "print(10)"
   ],
   "metadata": {
    "collapsed": false,
    "pycharm": {
     "name": "#%%\n"
    }
   }
  },
  {
   "cell_type": "code",
   "execution_count": 3,
   "outputs": [
    {
     "name": "stdout",
     "output_type": "stream",
     "text": [
      "4\n"
     ]
    }
   ],
   "source": [
    "print(2 + 2)"
   ],
   "metadata": {
    "collapsed": false,
    "pycharm": {
     "name": "#%%\n"
    }
   }
  },
  {
   "cell_type": "markdown",
   "source": [
    "## Zmienne\n",
    "\n",
    "Zmienne tworzymy poprzez podstawienie wartości do nazwy konkretnej zmiennej"
   ],
   "metadata": {
    "collapsed": false,
    "pycharm": {
     "name": "#%% md\n"
    }
   }
  },
  {
   "cell_type": "code",
   "execution_count": 4,
   "outputs": [],
   "source": [
    "a = 1\n",
    "b = 2 + 2\n",
    "s = 'Hello ' + 'world'"
   ],
   "metadata": {
    "collapsed": false,
    "pycharm": {
     "name": "#%%\n"
    }
   }
  },
  {
   "cell_type": "markdown",
   "source": [
    "Wartość zmiennej można wyświetlić na ekranie za pomocą funkcji print()"
   ],
   "metadata": {
    "collapsed": false,
    "pycharm": {
     "name": "#%% md\n"
    }
   }
  },
  {
   "cell_type": "code",
   "execution_count": 5,
   "outputs": [
    {
     "name": "stdout",
     "output_type": "stream",
     "text": [
      "4\n"
     ]
    }
   ],
   "source": [
    "print(b)"
   ],
   "metadata": {
    "collapsed": false,
    "pycharm": {
     "name": "#%%\n"
    }
   }
  },
  {
   "cell_type": "code",
   "execution_count": 6,
   "outputs": [
    {
     "name": "stdout",
     "output_type": "stream",
     "text": [
      "Hello world\n"
     ]
    }
   ],
   "source": [
    "print(s)"
   ],
   "metadata": {
    "collapsed": false,
    "pycharm": {
     "name": "#%%\n"
    }
   }
  },
  {
   "cell_type": "markdown",
   "source": [
    "## Typy zmiennych\n",
    "\n",
    "W języku Python występują trzy najbardziej ogólne typy wartości zmiennych:\n",
    "- całkowitoliczbowa (int - integer), np. 10\n",
    "- zmiennoprzecinkowa (float), np. 1.234\n",
    "- tekstowa (str - string), np. hello world\n",
    "\n",
    "Jednak język Python jest językiem typowanym dynamicznie, więc typy danych\n",
    "w zmiennych zostaną dopasowane automatycznie przez interpreter w momencie uruchamiania kodu.\n",
    "Programista nie musi jawnie wskazywać takiego typu. Dobrze jest jednak zdawać sobie sprawę z tego co \"siedzi\" w zmiennej."
   ],
   "metadata": {
    "collapsed": false,
    "pycharm": {
     "name": "#%% md\n"
    }
   }
  },
  {
   "cell_type": "code",
   "execution_count": 7,
   "outputs": [
    {
     "name": "stdout",
     "output_type": "stream",
     "text": [
      "10\n"
     ]
    }
   ],
   "source": [
    "calkowitoliczbowa = 10\n",
    "\n",
    "print(calkowitoliczbowa)"
   ],
   "metadata": {
    "collapsed": false,
    "pycharm": {
     "name": "#%%\n"
    }
   }
  },
  {
   "cell_type": "code",
   "execution_count": 8,
   "outputs": [
    {
     "name": "stdout",
     "output_type": "stream",
     "text": [
      "1.234\n"
     ]
    }
   ],
   "source": [
    "zmiennoprzecinkowa = 1.234\n",
    "\n",
    "print(zmiennoprzecinkowa)"
   ],
   "metadata": {
    "collapsed": false,
    "pycharm": {
     "name": "#%%\n"
    }
   }
  },
  {
   "cell_type": "code",
   "execution_count": 9,
   "outputs": [
    {
     "name": "stdout",
     "output_type": "stream",
     "text": [
      "hej!\n"
     ]
    }
   ],
   "source": [
    "tekstowa = 'hej!'\n",
    "\n",
    "print(tekstowa)"
   ],
   "metadata": {
    "collapsed": false,
    "pycharm": {
     "name": "#%%\n"
    }
   }
  },
  {
   "cell_type": "markdown",
   "source": [
    "## Rzutowanie\n",
    "\n",
    "Czyli inaczej konwersja (zmiana) typu zmiennej. Operacja ta jest szczególnie przydatna przy wykonywaniu operacji, które\n",
    "wymagają zgodności typu między zmiennymi.\n",
    "\n",
    "Rzutowanie z typu całkowitoliczbowego na zmiennoprzecinkowy"
   ],
   "metadata": {
    "collapsed": false,
    "pycharm": {
     "name": "#%% md\n"
    }
   }
  },
  {
   "cell_type": "code",
   "execution_count": 10,
   "outputs": [
    {
     "name": "stdout",
     "output_type": "stream",
     "text": [
      "10\n",
      "10.0\n"
     ]
    }
   ],
   "source": [
    "a = 10\n",
    "b = float(a)\n",
    "\n",
    "print(a)\n",
    "print(b)"
   ],
   "metadata": {
    "collapsed": false,
    "pycharm": {
     "name": "#%%\n"
    }
   }
  },
  {
   "cell_type": "markdown",
   "source": [
    "Rzutowanie z typu całkowitoliczbowego i zmiennoprzecinkowego na tekstowy:"
   ],
   "metadata": {
    "collapsed": false,
    "pycharm": {
     "name": "#%% md\n"
    }
   }
  },
  {
   "cell_type": "code",
   "execution_count": 11,
   "outputs": [
    {
     "name": "stdout",
     "output_type": "stream",
     "text": [
      "10\n",
      "10.0\n"
     ]
    }
   ],
   "source": [
    "s_a = str(a)\n",
    "s_b = str(b)\n",
    "\n",
    "print(s_a)\n",
    "print(s_b)"
   ],
   "metadata": {
    "collapsed": false,
    "pycharm": {
     "name": "#%%\n"
    }
   }
  },
  {
   "cell_type": "markdown",
   "source": [
    "### Live coding\n",
    "\n",
    "Utworzyć zmienne:\n",
    "- first_name, do której zostanie podstawione imie\n",
    "- last_name, do której zostanie podstawione nazwisko\n",
    "- balance, do której zostanie podstawiony stan konta\n",
    "- name, w której znajdzie się pełne imię i nazwisko pochodzące ze zmiennych first_name i last_name\n",
    "- message, w której znajdzie się treść komunikatu o następującej formie: \"Witaj, \\[name\\]. Twój stan konta to \\[balance\\] PLN\"\n",
    "\n",
    "Następnie należy wyswietlić na ekranie ekranie treść komunikatu zajdującego się w zmiennej message."
   ],
   "metadata": {
    "collapsed": false,
    "pycharm": {
     "name": "#%% md\n"
    }
   }
  },
  {
   "cell_type": "markdown",
   "source": [
    "Funkcję print() można również wykorzystać przy łączeniu różnych wartości, co może mieć na celu\n",
    "np. wyświetlenie precyzyjnej informacji o charakterze prezentowanej wartości"
   ],
   "metadata": {
    "collapsed": false,
    "pycharm": {
     "name": "#%% md\n"
    }
   }
  },
  {
   "cell_type": "code",
   "execution_count": 12,
   "outputs": [
    {
     "name": "stdout",
     "output_type": "stream",
     "text": [
      "Wartosc zmiennej b wynosi: 10.0\n"
     ]
    }
   ],
   "source": [
    "print('Wartosc zmiennej b wynosi: ' + str(b))"
   ],
   "metadata": {
    "collapsed": false,
    "pycharm": {
     "name": "#%%\n"
    }
   }
  },
  {
   "cell_type": "markdown",
   "source": [
    "Język Python umożliwia również prostszą metodę wyświetlania wartości metodą interpolacji stringów.\n",
    "\n",
    "\n",
    "Można w tym celu stworzyć oddzielną zmienną, która będzie przechowywała treść komunikatu:"
   ],
   "metadata": {
    "collapsed": false,
    "pycharm": {
     "name": "#%% md\n"
    }
   }
  },
  {
   "cell_type": "code",
   "execution_count": 13,
   "outputs": [
    {
     "name": "stdout",
     "output_type": "stream",
     "text": [
      "Wartosc zmiennej val wynosi: 10\n"
     ]
    }
   ],
   "source": [
    "val = 10\n",
    "statement = f'Wartosc zmiennej val wynosi: {val}'\n",
    "\n",
    "print(statement)"
   ],
   "metadata": {
    "collapsed": false,
    "pycharm": {
     "name": "#%%\n"
    }
   }
  },
  {
   "cell_type": "markdown",
   "source": [
    "Lub stworzyć taki zinterpolowany tekst bezpośrednio w funkcji string:"
   ],
   "metadata": {
    "collapsed": false,
    "pycharm": {
     "name": "#%% md\n"
    }
   }
  },
  {
   "cell_type": "code",
   "execution_count": 14,
   "outputs": [
    {
     "name": "stdout",
     "output_type": "stream",
     "text": [
      "Wartosc zmiennej val wynosi: 20\n"
     ]
    }
   ],
   "source": [
    "val = 20\n",
    "\n",
    "print(f'Wartosc zmiennej val wynosi: {val}')"
   ],
   "metadata": {
    "collapsed": false,
    "pycharm": {
     "name": "#%%\n"
    }
   }
  },
  {
   "cell_type": "markdown",
   "source": [
    "### Live coding\n",
    "\n",
    "Zmodyfikować kod z zadania poprzedniego w taki sposób, aby komunikaty wyświetlane na ekranie utworzyć\n",
    "metodą interpolacji stringów\n",
    "\n",
    "## Pobieranie wartości z klawiatury\n",
    "\n",
    "Interakcję z użytkownikiem programu można prowadzić za pomocą wyświetlania mu wartości na ekranie.\n",
    "Można to wzbogacić dając mu możliwość samodzielnego wprowadzania takich wartości. Służy do tego funkcja input()"
   ],
   "metadata": {
    "collapsed": false,
    "pycharm": {
     "name": "#%% md\n"
    }
   }
  },
  {
   "cell_type": "code",
   "execution_count": 15,
   "outputs": [
    {
     "name": "stdout",
     "output_type": "stream",
     "text": [
      "Janusz\n"
     ]
    }
   ],
   "source": [
    "name = input('Podaj imie: ')\n",
    "\n",
    "print(name)"
   ],
   "metadata": {
    "collapsed": false,
    "pycharm": {
     "name": "#%%\n"
    }
   }
  },
  {
   "cell_type": "markdown",
   "source": [
    "Wszystkie wartości wprowadzone z klawiatury są automatycznie traktowane jako tekst\n",
    "(nawet jeżeli zostaną wprowadzone tylko cyfry). Aby liczby wprowadzone przez użytkownika\n",
    "za pomocą klawiatury (za pomocą funkcji input()) faktycznie stały się liczbami, należy użyć rzutowania."
   ],
   "metadata": {
    "collapsed": false,
    "pycharm": {
     "name": "#%% md\n"
    }
   }
  },
  {
   "cell_type": "code",
   "execution_count": 16,
   "outputs": [
    {
     "name": "stdout",
     "output_type": "stream",
     "text": [
      "Liczba 2.0 podniesiona do potegi 10.0 wynosi: 1024.0\n"
     ]
    }
   ],
   "source": [
    "base = input('Podaj podstawe: ')\n",
    "exponent = input('Podaj wykladnik: ')\n",
    "\n",
    "base_num = float(base)\n",
    "exponent_num = float(exponent)\n",
    "\n",
    "print(f'Liczba {base_num} podniesiona do potegi {exponent_num} wynosi: {base_num ** exponent_num}')"
   ],
   "metadata": {
    "collapsed": false,
    "pycharm": {
     "name": "#%%\n"
    }
   }
  },
  {
   "cell_type": "markdown",
   "source": [
    "### Live coding\n",
    "\n",
    "Przygotować skrypt, który pobierze od użytkownika (z klawiatury) następujące informacje:\n",
    "- imie\n",
    "- rok urodzenia\n",
    "\n",
    "i wypisze na ekranie komunikat o następującej formie: \"Witaj, \\[imie\\]. Masz \\[x\\] lat.\"\n",
    "\n",
    "## Operacje na tekstach\n",
    "\n",
    "Do konkretnego znaku w tekście można się odwołać podając jego pozycję w nawiasach \\[\\] licząc od 0"
   ],
   "metadata": {
    "collapsed": false,
    "pycharm": {
     "name": "#%% md\n"
    }
   }
  },
  {
   "cell_type": "code",
   "execution_count": 17,
   "outputs": [
    {
     "name": "stdout",
     "output_type": "stream",
     "text": [
      "Pierwszy znak ciągu znaków hej!: h\n",
      "Drugi znak ciągu znaków hej!: e\n"
     ]
    }
   ],
   "source": [
    "s = 'hej!'\n",
    "\n",
    "print(f'Pierwszy znak ciągu znaków {s}: {s[0]}')\n",
    "print(f'Drugi znak ciągu znaków {s}: {s[1]}')"
   ],
   "metadata": {
    "collapsed": false,
    "pycharm": {
     "name": "#%%\n"
    }
   }
  },
  {
   "cell_type": "markdown",
   "source": [
    "Do ostatniego znaku tekstu można się odwołać podając indeks -1, do przedostatniego za pomocą indeksu -2, itd."
   ],
   "metadata": {
    "collapsed": false,
    "pycharm": {
     "name": "#%% md\n"
    }
   }
  },
  {
   "cell_type": "code",
   "execution_count": 18,
   "outputs": [
    {
     "name": "stdout",
     "output_type": "stream",
     "text": [
      "Ostatni znak ciągu znaków hello world: d\n",
      "Przedostatni znak ciągu znaków hello world: l\n"
     ]
    }
   ],
   "source": [
    "s = 'hello world'\n",
    "\n",
    "print(f'Ostatni znak ciągu znaków {s}: {s[-1]}')\n",
    "print(f'Przedostatni znak ciągu znaków {s}: {s[-2]}')"
   ],
   "metadata": {
    "collapsed": false,
    "pycharm": {
     "name": "#%%\n"
    }
   }
  },
  {
   "cell_type": "markdown",
   "source": [
    "Długość tekstu można pobrać za pomocą funkcji len()"
   ],
   "metadata": {
    "collapsed": false,
    "pycharm": {
     "name": "#%% md\n"
    }
   }
  },
  {
   "cell_type": "code",
   "execution_count": 19,
   "outputs": [
    {
     "name": "stdout",
     "output_type": "stream",
     "text": [
      "Dlugosc ciagu znakow hej! wynosi 4\n"
     ]
    }
   ],
   "source": [
    "s = 'hej!'\n",
    "s_len = len(s)\n",
    "\n",
    "print(f'Dlugosc ciagu znakow {s} wynosi {s_len}')"
   ],
   "metadata": {
    "collapsed": false,
    "pycharm": {
     "name": "#%%\n"
    }
   }
  },
  {
   "cell_type": "markdown",
   "source": [
    "Do określonych podciągów tekstów można odwołać się podając indeksy początku i końca tworząc przedział\n",
    "lewostronnie domknięty.\n",
    "\n",
    "Przykład: dla ciągu znaków hello world wyciągamy znaki od pozycji 2 do pozycji 5."
   ],
   "metadata": {
    "collapsed": false,
    "pycharm": {
     "name": "#%% md\n"
    }
   }
  },
  {
   "cell_type": "code",
   "execution_count": 20,
   "outputs": [
    {
     "name": "stdout",
     "output_type": "stream",
     "text": [
      "ello \n"
     ]
    }
   ],
   "source": [
    "s = 'hello world'\n",
    "print(s[1:6])"
   ],
   "metadata": {
    "collapsed": false,
    "pycharm": {
     "name": "#%%\n"
    }
   }
  },
  {
   "cell_type": "markdown",
   "source": [
    "## Instrukcja warunkowa\n",
    "\n",
    "Pozwala na wykonanie poszczególnych instrukcji w zależności od spełnienia pewnych warunków logicznych\n",
    "\n",
    "Przykład: pobieramy od użytkownika 2 liczby całkowite i sprawdzamy która z nich jest większa"
   ],
   "metadata": {
    "collapsed": false,
    "pycharm": {
     "name": "#%% md\n"
    }
   }
  },
  {
   "cell_type": "code",
   "execution_count": 21,
   "outputs": [
    {
     "name": "stdout",
     "output_type": "stream",
     "text": [
      "pierwsza liczba jest wieksza\n"
     ]
    }
   ],
   "source": [
    "a = int(input('Podaj pierwsza liczbe: '))\n",
    "b = int(input('Podaj druga liczbe: '))\n",
    "\n",
    "if a > b:\n",
    "    print('pierwsza liczba jest wieksza')\n",
    "else:\n",
    "    print('druga liczba jest wieksza lub rowna')"
   ],
   "metadata": {
    "collapsed": false,
    "pycharm": {
     "name": "#%%\n"
    }
   }
  },
  {
   "cell_type": "markdown",
   "source": [
    "Język Python pozwala na użycie bardziej złożonych instrukcji warunkowych, które pozwalają na wykonanie więcej niż\n",
    "dwóch akcji\n",
    "\n",
    "Przykład: pobieramy liczbę całkowitą od użytkownika i sprawdzamy czy jest:\n",
    "- mała i parzysta (mała oznacza liczbę wynoszącą co najwyżej 19)\n",
    "- duża i parzysta (duża oznacza liczbę wynoszącą co najmniej 20)\n",
    "- nieparzysta"
   ],
   "metadata": {
    "collapsed": false,
    "pycharm": {
     "name": "#%% md\n"
    }
   }
  },
  {
   "cell_type": "code",
   "execution_count": 22,
   "outputs": [
    {
     "name": "stdout",
     "output_type": "stream",
     "text": [
      "duza liczba parzysta\n"
     ]
    }
   ],
   "source": [
    "val = int(input('Podaj liczbe: '))\n",
    "\n",
    "if val >= 20 and val % 2 == 0:\n",
    "    print('duza liczba parzysta')\n",
    "elif val <= 19 and val % 2 == 0:\n",
    "    print('mala liczba parzysta')\n",
    "else:\n",
    "    print('liczba nieparzysta')"
   ],
   "metadata": {
    "collapsed": false,
    "pycharm": {
     "name": "#%%\n"
    }
   }
  },
  {
   "cell_type": "markdown",
   "source": [
    "### Live coding\n",
    "\n",
    "Wczytać imię od użytkownika, a następnie sprawdzić czy należy ono do płci żeńskiej lub męskiej.\n",
    "\n",
    "## Zadania do samodzielnego wykonania\n",
    "\n",
    "już wkrótce...\n",
    "\n"
   ],
   "metadata": {
    "collapsed": false,
    "pycharm": {
     "name": "#%% md\n"
    }
   }
  }
 ],
 "metadata": {
  "kernelspec": {
   "display_name": "Python 3",
   "language": "python",
   "name": "python3"
  },
  "language_info": {
   "codemirror_mode": {
    "name": "ipython",
    "version": 2
   },
   "file_extension": ".py",
   "mimetype": "text/x-python",
   "name": "python",
   "nbconvert_exporter": "python",
   "pygments_lexer": "ipython2",
   "version": "2.7.6"
  }
 },
 "nbformat": 4,
 "nbformat_minor": 0
}