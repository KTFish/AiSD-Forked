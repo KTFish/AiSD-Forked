{
 "cells": [
  {
   "cell_type": "markdown",
   "metadata": {
    "collapsed": true,
    "pycharm": {
     "name": "#%% md\n"
    }
   },
   "source": [
    "# Lab 2 - lista jednokierunkowa\n",
    "\n",
    "Lista jednokierunkowa jest sekwencją połączonych ze sobą węzłów.\n",
    "Każdy z nich zawiera wartość (data lub value) oraz wskaźnik do następnego elementu (next).\n",
    "Wskaźnikiem do pierwszege elementu listy jest head, a wskaźnikiem do ostatniego elementu jest tail.\n",
    "\n",
    "[list]: https://camo.githubusercontent.com/762a90a761cfbc1306ebb537a81803d6ad224823/68747470733a2f2f7777772e7475746f7269616c73706f696e742e636f6d2f646174615f737472756374757265735f616c676f726974686d732f696d616765732f6473615f6c696e6b65646c6973742e6a7067\n",
    "\n",
    "Schemat listy: ![list]\n",
    "\n",
    "https://camo.githubusercontent.com/762a90a761cfbc1306ebb537a81803d6ad224823/68747470733a2f2f7777772e7475746f7269616c73706f696e742e636f6d2f646174615f737472756374757265735f616c676f726974686d732f696d616765732f6473615f6c696e6b65646c6973742e6a7067\n",
    "\n",
    "## Zadania\n",
    "\n",
    "### Zadanie 1.\n",
    "\n",
    "Przygotować implementację listy jednokierunkowej wg następujących wymagań:\n",
    "- klasa Node będzie reprezentacją węzła\n",
    "- klasa LinkedList będzie reprezentacją listy jednokierunkowej\n",
    "- metoda push(self, value: Any) -> None umieści nowy węzeł na początku listy\n",
    "- metoda append(self, value: Any) -> None umieści nowy węzeł na końcu listy\n",
    "- metoda node(self, at: int) -> Node zwróci węzeł znajdujący się na wskazanej pozycji\n",
    "- metoda insert(self, value: Any, after: Node) -> None wstawi nowy węzeł tuż za węzłem wskazanym w parametrze\n",
    "- metoda pop(self) -> Any usunie pierwszy element z listy i go zwróci\n",
    "- metoda remove_last(self) -> Any usunie ostatni element z listy i go zwróci\n",
    "- metoda remove(self, after: Node) -> Any usunie z listy następnik węzła przekazanego w parametrze\n",
    "- funkcja print wywołana na obiekcie listy zawierającym 2 elementy [0, 1] wyświetli na ekranie \"0 -> 1\"\n",
    "- funkcja len wywołana na obiekcie listy zwróci jej długość\n",
    "\n",
    "Proponowany schemat klas:"
   ]
  },
  {
   "cell_type": "code",
   "execution_count": 1,
   "metadata": {
    "pycharm": {
     "name": "#%%\n"
    }
   },
   "outputs": [],
   "source": [
    "from typing import Any\n",
    "\n",
    "class Node:\n",
    "    value: Any\n",
    "    next: 'Node'\n",
    "\n",
    "class LinkedList:\n",
    "    head: Node\n",
    "    tail: Node"
   ]
  },
  {
   "cell_type": "markdown",
   "metadata": {
    "pycharm": {
     "name": "#%% md\n"
    }
   },
   "source": [
    "Proponowany schemat testów"
   ]
  },
  {
   "cell_type": "code",
   "execution_count": 2,
   "metadata": {
    "pycharm": {
     "name": "#%%\n"
    }
   },
   "outputs": [],
   "source": [
    "list_ = LinkedList()"
   ]
  },
  {
   "cell_type": "markdown",
   "metadata": {
    "pycharm": {
     "name": "#%% md\n"
    }
   },
   "source": [
    "Nowa lista jest pusta"
   ]
  },
  {
   "cell_type": "code",
   "execution_count": 3,
   "metadata": {
    "pycharm": {
     "name": "#%%\n"
    }
   },
   "outputs": [],
   "source": [
    "assert list_.head == None"
   ]
  },
  {
   "cell_type": "markdown",
   "metadata": {
    "pycharm": {
     "name": "#%% md\n"
    }
   },
   "source": [
    "Metoda push umieszcza elementy na początku listy"
   ]
  },
  {
   "cell_type": "code",
   "execution_count": 4,
   "metadata": {
    "pycharm": {
     "name": "#%%\n"
    }
   },
   "outputs": [],
   "source": [
    "list_.push(1)\n",
    "list_.push(0)\n",
    "\n",
    "assert str(list_) == '0 -> 1'"
   ]
  },
  {
   "cell_type": "markdown",
   "metadata": {
    "pycharm": {
     "name": "#%% md\n"
    }
   },
   "source": [
    "Metoda append umieszcza elementy na końcu listy"
   ]
  },
  {
   "cell_type": "code",
   "execution_count": 5,
   "metadata": {
    "pycharm": {
     "name": "#%%\n"
    }
   },
   "outputs": [],
   "source": [
    "list_.append(9)\n",
    "list_.append(10)\n",
    "\n",
    "assert str(list_) == '0 -> 1 -> 9 -> 10'"
   ]
  },
  {
   "cell_type": "markdown",
   "metadata": {
    "pycharm": {
     "name": "#%% md\n"
    }
   },
   "source": [
    "Element o indeksie 2 po wywołaniu metody insert będzie miał wartość 5"
   ]
  },
  {
   "cell_type": "code",
   "execution_count": 6,
   "metadata": {
    "pycharm": {
     "name": "#%%\n"
    }
   },
   "outputs": [],
   "source": [
    "middle_node = list_.node(at=1)\n",
    "list_.insert(5, after=middle_node)\n",
    "\n",
    "assert str(list_) == '0 -> 1 -> 5 -> 9 -> 10'"
   ]
  },
  {
   "cell_type": "markdown",
   "metadata": {
    "pycharm": {
     "name": "#%% md\n"
    }
   },
   "source": [
    "Metoda pop usuwa i zwraca pierwszy element listy"
   ]
  },
  {
   "cell_type": "code",
   "execution_count": 7,
   "metadata": {
    "pycharm": {
     "name": "#%%\n"
    }
   },
   "outputs": [],
   "source": [
    "first_element = list_.node(at=0)\n",
    "returned_first_element = list_.pop()\n",
    "\n",
    "assert first_element.value == returned_first_element"
   ]
  },
  {
   "cell_type": "markdown",
   "metadata": {
    "pycharm": {
     "name": "#%% md\n"
    }
   },
   "source": [
    "Metoda remove_last usuwa i zwraca ostatni element listy"
   ]
  },
  {
   "cell_type": "code",
   "execution_count": 8,
   "metadata": {
    "pycharm": {
     "name": "#%%\n"
    }
   },
   "outputs": [],
   "source": [
    "last_element = list_.node(at=3)\n",
    "returned_last_element = list_.remove_last()\n",
    "\n",
    "assert last_element.value == returned_last_element\n",
    "assert str(list_) == '1 -> 5 -> 9'"
   ]
  },
  {
   "cell_type": "markdown",
   "metadata": {
    "pycharm": {
     "name": "#%% md\n"
    }
   },
   "source": [
    "Metoda remove przyjmuje węzeł jako argument, a następnie usuwa jego następnik"
   ]
  },
  {
   "cell_type": "code",
   "execution_count": 9,
   "metadata": {
    "pycharm": {
     "name": "#%%\n"
    }
   },
   "outputs": [],
   "source": [
    "second_node = list_.node(at=1)\n",
    "list_.remove(second_node)\n",
    "\n",
    "assert str(list_) == '1 -> 5'"
   ]
  },
  {
   "cell_type": "markdown",
   "source": [
    "### Zadanie 2\n",
    "\n",
    "Stos - kolejka LIFO (last input, first output)\n",
    "\n",
    "Elementy w stosie są układane jeden na drugim, co oznacza że nowa wartośc znajdzie się na końcu kolejki.\n",
    "Przy usuwaniu \"zdejmowany\" jest ostatni element kolejki, czyli ten który jest obecnie \"na szczycie\".\n",
    "\n",
    "Przygotować implementację stosu według następujących wymagań:\n",
    "- klasa Stack będzie reprezentacją stosu\n",
    "- do przechowywania wartości wewnątrz stosu wykorzystać własną implementację klasy LinkedList\n",
    "- wywołanie inicjalizatora klasy Stack utworzy pusty stos\n",
    "- metoda push(self, element: Any) -> None umieści nową wartość \"na szczycie\" stosu, czyli zostanie dodana na końcu wewnętrznej listy\n",
    "- metoda pop(self) -> Any zwróci i usunie wartość ze szczytu stosu\n",
    "- wywołanie funkcji print na obiekcie stosu wyświetli na ekranie jego elementy w postaci kolumny\n",
    "- wywołanie funkcji len na obiekcie stosu zwróci liczbę elementów, które się w nim znajdują"
   ],
   "metadata": {
    "collapsed": false,
    "pycharm": {
     "name": "#%% md\n"
    }
   }
  },
  {
   "cell_type": "code",
   "execution_count": null,
   "outputs": [],
   "source": [
    "class Stack:\n",
    "    _storage: LinkedList"
   ],
   "metadata": {
    "collapsed": false,
    "pycharm": {
     "name": "#%%\n"
    }
   }
  },
  {
   "cell_type": "markdown",
   "source": [
    "Proponowany schemat testów:"
   ],
   "metadata": {
    "collapsed": false,
    "pycharm": {
     "name": "#%% md\n"
    }
   }
  },
  {
   "cell_type": "code",
   "execution_count": 2,
   "outputs": [],
   "source": [
    "stack = Stack()"
   ],
   "metadata": {
    "collapsed": false,
    "pycharm": {
     "name": "#%%\n"
    }
   }
  },
  {
   "cell_type": "markdown",
   "source": [
    "Nowo utworzony stos jest pusty"
   ],
   "metadata": {
    "collapsed": false,
    "pycharm": {
     "name": "#%% md\n"
    }
   }
  },
  {
   "cell_type": "code",
   "execution_count": 3,
   "outputs": [],
   "source": [
    "assert len(stack) == 0"
   ],
   "metadata": {
    "collapsed": false,
    "pycharm": {
     "name": "#%%\n"
    }
   }
  },
  {
   "cell_type": "markdown",
   "source": [
    "Dodanie kolejno 3 elementów tworzy stos"
   ],
   "metadata": {
    "collapsed": false,
    "pycharm": {
     "name": "#%% md\n"
    }
   }
  },
  {
   "cell_type": "code",
   "execution_count": 4,
   "outputs": [],
   "source": [
    "stack.push(3)\n",
    "stack.push(10)\n",
    "stack.push(1)\n",
    "\n",
    "assert len(stack) == 3"
   ],
   "metadata": {
    "collapsed": false,
    "pycharm": {
     "name": "#%%\n"
    }
   }
  },
  {
   "cell_type": "markdown",
   "source": [
    "Szczytowa wartość na stosie ma wartość 1"
   ],
   "metadata": {
    "collapsed": false,
    "pycharm": {
     "name": "#%% md\n"
    }
   }
  },
  {
   "cell_type": "code",
   "execution_count": 5,
   "outputs": [],
   "source": [
    "top_value = stack.pop()\n",
    "\n",
    "assert top_value == 1"
   ],
   "metadata": {
    "collapsed": false,
    "pycharm": {
     "name": "#%%\n"
    }
   }
  },
  {
   "cell_type": "markdown",
   "source": [
    "Stos po zdjęciu szczytowego elementu ma wartość 2"
   ],
   "metadata": {
    "collapsed": false,
    "pycharm": {
     "name": "#%% md\n"
    }
   }
  },
  {
   "cell_type": "code",
   "execution_count": 6,
   "outputs": [],
   "source": [
    "assert len(stack) == 2"
   ],
   "metadata": {
    "collapsed": false,
    "pycharm": {
     "name": "#%%\n"
    }
   }
  },
  {
   "cell_type": "markdown",
   "source": [
    "### Zadanie 3\n",
    "\n",
    "Kolejka FIFO (first input, first output)\n",
    "\n",
    "Kolejka FIFO to abstrakcyjna struktura danych pełniąca rolę bufora.\n",
    "Element dodany jako pierwszy zostaje również \"zdjęty\" jako pierwszy, co można rozumieć przez analogię do kolejki w sklepie.\n",
    "\n",
    "Przygotować implementację kolejki FIFO według następujących wymagań:\n",
    "- klasa Queue będzie reprezentacją kolejki FIFO\n",
    "- do przechowywania wartości wewnątrz kolejki FIFO wykorzystać własną implementację listy (LinkedList)\n",
    "- wywołanie inicjalizatora klasy Queue utworzy pustą kolejkę\n",
    "- metoda peek(self) -> Any zwróci wartość pierwszego elementu w kolejce\n",
    "- metoda enqueue(self, element: Any) -> None umieści nowy element na końcu kolejki\n",
    "- metoda dequeue(self) -> Any zwróci i usunie pierwszy element w kolejce\n",
    "- wywołanie funkcji print na obiekcie kolejki wypisze na ekranie jej elementy we właściwej kolejności\n",
    "- wywołanie funkcji len na obiekcie kolejki zwróci jej liczebność"
   ],
   "metadata": {
    "collapsed": false,
    "pycharm": {
     "name": "#%% md\n"
    }
   }
  },
  {
   "cell_type": "code",
   "execution_count": null,
   "outputs": [],
   "source": [
    "class Queue:\n",
    "    _storage: LinkedList"
   ],
   "metadata": {
    "collapsed": false,
    "pycharm": {
     "name": "#%%\n"
    }
   }
  },
  {
   "cell_type": "markdown",
   "source": [
    "Proponowany schemat testów:"
   ],
   "metadata": {
    "collapsed": false,
    "pycharm": {
     "name": "#%% md\n"
    }
   }
  },
  {
   "cell_type": "code",
   "execution_count": 1,
   "outputs": [],
   "source": [
    "queue = Queue()"
   ],
   "metadata": {
    "collapsed": false,
    "pycharm": {
     "name": "#%%\n"
    }
   }
  },
  {
   "cell_type": "markdown",
   "source": [
    "Nowo utworzona kolejka FIFO jest pusta"
   ],
   "metadata": {
    "collapsed": false,
    "pycharm": {
     "name": "#%% md\n"
    }
   }
  },
  {
   "cell_type": "code",
   "execution_count": 2,
   "outputs": [],
   "source": [
    "assert len(queue) == 0"
   ],
   "metadata": {
    "collapsed": false,
    "pycharm": {
     "name": "#%%\n"
    }
   }
  },
  {
   "cell_type": "markdown",
   "source": [
    "Dodanie 3 elementów twórzy kolejkę FIFO"
   ],
   "metadata": {
    "collapsed": false,
    "pycharm": {
     "name": "#%% md\n"
    }
   }
  },
  {
   "cell_type": "code",
   "execution_count": 3,
   "outputs": [],
   "source": [
    "queue.enqueue('klient1')\n",
    "queue.enqueue('klient2')\n",
    "queue.enqueue('klient3')\n",
    "\n",
    "assert str(queue) == 'klient1, klient2, klient3'"
   ],
   "metadata": {
    "collapsed": false,
    "pycharm": {
     "name": "#%%\n"
    }
   }
  },
  {
   "cell_type": "markdown",
   "source": [
    "Jako pierwszy zostanie obsłużony klient 1.\n",
    "Po \"obsłużeniu\" pierwszej osoby w kolejce zostaną elementy klient2 i klient3"
   ],
   "metadata": {
    "collapsed": false,
    "pycharm": {
     "name": "#%% md\n"
    }
   }
  },
  {
   "cell_type": "code",
   "execution_count": 4,
   "outputs": [],
   "source": [
    "client_first = queue.dequeue()\n",
    "\n",
    "assert client_first == 'klient1'\n",
    "assert str(queue) == 'klient2, klient3'\n",
    "assert len(queue) == 2"
   ],
   "metadata": {
    "collapsed": false,
    "pycharm": {
     "name": "#%%\n"
    }
   }
  },
  {
   "cell_type": "code",
   "execution_count": null,
   "outputs": [],
   "source": [],
   "metadata": {
    "collapsed": false,
    "pycharm": {
     "name": "#%%\n"
    }
   }
  }
 ],
 "metadata": {
  "kernelspec": {
   "display_name": "Python 3",
   "language": "python",
   "name": "python3"
  },
  "language_info": {
   "codemirror_mode": {
    "name": "ipython",
    "version": 3
   },
   "file_extension": ".py",
   "mimetype": "text/x-python",
   "name": "python",
   "nbconvert_exporter": "python",
   "pygments_lexer": "ipython3",
   "version": "3.8.3"
  }
 },
 "nbformat": 4,
 "nbformat_minor": 1
}