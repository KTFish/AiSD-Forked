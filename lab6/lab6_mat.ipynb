{
 "cells": [
  {
   "cell_type": "markdown",
   "source": [
    "# Lab 6 - drzewa binarne\n",
    "\n",
    "Drzewa są abstrakcyjną strukturą danych służącą do przechowywania danych w sposób hierarchiczny.\n",
    "Drzewa składają się z węzłów, które mają rodzica i dzieci. Szczególnym przypadkiem węzła są: korzeń, który nie posiada rodzica oraz liście, które nie posiadają dzieci.\n",
    "\n",
    "Drzewo binarne to szczególny przypadek drzewa, w którym stopień każdego węzła (wierzchołka) jest nie wiekszy niż 3.\n",
    "Każdy węzeł drzewa binarnego zawiera referencję do co najwyżej 2 dzieci: lewego i prawego.\n",
    "\n",
    "## Przykładowe drzewo binarne\n",
    "\n",
    "![tree](../lab5/binary_tree.png)\n",
    "\n",
    "## Przechodzenie po drzewie binarnym\n",
    "\n",
    "Każda z metod definiuje odrębną kolejność odwiedzania węzłów w drzewie począwszy od wyznaczonego węzła,\n",
    "którym najczęściej jest korzeń.\n",
    "\n",
    "### In order - przejście poprzeczne\n",
    "\n",
    "Odwiedzanie rozpoczynamy od skrajnie lewego liścia, następnie kierujemy się do rodzica i do jego prawego dziecka.\n",
    "Następnie kierujemy się do rodzica o 2 poziomy wyżej i powtarzamy powyższy schemat.\n",
    "\n",
    "Pseudokod:\n",
    "- jeżeli bieżący węzeł ma lewe dziecko, to wykonaj na nim metodę in_order\n",
    "- odwiedź bieżący węzeł\n",
    "- jeżeli bieżący węzeł ma prawe dziecko, to wykonaj na nim metodę in_order\n",
    "\n",
    "Dla przykładowego drzewa kolejność będzie następująca: 1, 9, 3, 10, 4, 2, 6\n",
    "\n",
    "### Post order - przejście wsteczne\n",
    "\n",
    "Odwiedzanie rozpoczynamy od skrajnie lewego liścia, następnie kierujemy się do prawego sąsiada i do ich wspólnego rodzica.\n",
    "Następnie kierujemy się do lewego liścia sąsiedniego węzła na tym samym poziomie i powtarzamy powyższy schemat.\n",
    "\n",
    "Pseudokod:\n",
    "- jeżeli bieżący węzeł ma lewe dziecko, to wykonaj na nim metodę post_order\n",
    "- jeżeli bieżący węzeł ma prawe dziecko, to wykonaj na nim metodę post_order\n",
    "- odwiedź bieżący węzeł\n",
    "\n",
    "Dla przykładowego drzewa kolejność będzie następująca: 1, 3, 9, 4, 6, 2, 10\n",
    "\n",
    "### Pre order - przejście wzdłużne\n",
    "\n",
    "Odwiedzanie rozpoczynamy od wyznaczonego węzła (np. korzenia) i odwiedzamy jego lewe dziecko, a następnie lewe dziecko\n",
    "poziom niżej. Po dotarciu do liścia odwiedzamy jego sąsiedni (prawy) węzeł. Schemat powtarzamy dla prawego dziecka korzenia.\n",
    "\n",
    "Pseudokod:\n",
    "- odwiedź bieżący węzeł\n",
    "- jeżeli bieżący węzeł ma lewe dziecko, to wykonaj na nim metodę pre_order\n",
    "- jeżeli bieżący węzeł ma prawe dziecko, to wykonaj na nim metodę pre_order\n",
    "\n",
    "Dla przykładowego drzewa kolejność będzie następująca: 10, 9, 1, 3, 2, 4, 6\n",
    "\n",
    "## Zadania\n",
    "\n",
    "1. Implementacja struktury drzewa binarnego\n",
    "\n",
    "Używając poniższych wskazówek zaimplementować strukturę drzewa binarnego\n",
    "\n",
    "### Klasa BinaryNode (węzeł)"
   ],
   "metadata": {
    "collapsed": false,
    "pycharm": {
     "name": "#%% md\n"
    }
   }
  },
  {
   "cell_type": "code",
   "execution_count": null,
   "outputs": [],
   "source": [
    "from typing import Any, Callable\n",
    "\n",
    "\n",
    "class BinaryNode:\n",
    "    value: Any\n",
    "    left_child: 'BinaryNode'\n",
    "    right_child: 'BinaryNode'\n",
    "\n",
    "    def __init__(self, value: Any):\n",
    "        self.value = value\n",
    "\n",
    "    def add_left_child(self, value: Any) -> None:\n",
    "        self.left_child = ... #  lewym dzieckiem bedzie nowy obiekt klasy BinaryNode\n",
    "\n",
    "    def traverse_pre_order(self, visit: Callable[[Any], None]):\n",
    "        visit(self.value)\n",
    "\n",
    "        # ... dalsze kroki algorytmu odwiedzania wezlow"
   ],
   "metadata": {
    "collapsed": false,
    "pycharm": {
     "name": "#%%\n"
    }
   }
  },
  {
   "cell_type": "markdown",
   "source": [
    "Klasa odpowiedzialna jest za binarny węzeł drzewa, w ktorym przechowywana jest wartość oraz lewe i prawe dziecko.\n",
    "\n",
    "W klasie należy umieścić następujące metody:\n",
    "- inicjalizator, który ustawi wartość bieżącego węzła\n",
    "- is_leaf(), która sprawdzi czy węzeł jest liściem\n",
    "- add_left_child(self, value: Any), która doda lewe dziecko bieżącego węzła jako nowy węzeł\n",
    "- add_right_child(self, value: Any), która doda prawe dziecko bieżącego węzła jako nowy węzeł\n",
    "- traverse_in_order(self, visit: Callable[[Any], None]), która wykona operację poprzecznego przejścia po podrzędnych węzłach\n",
    "- traverse_post_order(self, visit: Callable[[Any], None]), która wykona operację wstecznego przejscia po podrzędnych węzłach\n",
    "- traverse_pre_order(self, visit: Callable[[Any], None]), która wykona operację wzdłużnego przejścia po podrzędnych węzłach\n",
    "- wywołanie funkcji print na węźle spowoduje wyświetlenie jego wartości\n",
    "\n",
    "### Klasa BinaryTree (drzewo binarne)"
   ],
   "metadata": {
    "collapsed": false
   }
  },
  {
   "cell_type": "code",
   "execution_count": null,
   "outputs": [],
   "source": [
    "class BinaryTree:\n",
    "    root: BinaryNode\n",
    "\n",
    "    def __init__(self, value: Any):\n",
    "        self.root = BinaryNode(value)"
   ],
   "metadata": {
    "collapsed": false,
    "pycharm": {
     "name": "#%%\n"
    }
   }
  },
  {
   "cell_type": "markdown",
   "source": [
    "Klasa BinaryTree jest odpowiedzialna za przechowywanie całej struktury drzewa binarnego, gdzie root wskazuje węzeł będący korzeniem.\n",
    "\n",
    "W klasie należy umieścić następujące metody:\n",
    "- traverse_in_order(self, visit: Callable[[Any], None]), która wykona operację poprzecznego przejścia po podrzędnych węzłach rozpoczynając od korzenia\n",
    "- traverse_post_order(self, visit: Callable[[Any], None]), która wykona operację wstecznego przejscia po podrzędnych węzłach rozpoczynając od korzenia\n",
    "- traverse_pre_order(self, visit: Callable[[Any], None]), która wykona operację wzdłużnego przejścia po podrzędnych węzłach rozpoczynając od korzenia\n",
    "- metoda show wyświetli drzewo w formie graficznej lub tekstowej, można użyć w tym celu bibliotek zewnętrznych\n",
    "\n",
    "\n",
    "### Przykładowy schemat tworzenia drzewa"
   ],
   "metadata": {
    "collapsed": false
   }
  },
  {
   "cell_type": "code",
   "source": [
    "def _visit(node: BinaryNode):\n",
    "    print(node)\n",
    "\n",
    "tree = BinaryTree(10)\n",
    "\n",
    "tree.root.add_left_child(9)\n",
    "tree.root.left_child.add_right_child(10)\n",
    "\n",
    "tree.traverse_in_order(_visit)"
   ],
   "metadata": {
    "collapsed": false,
    "pycharm": {
     "name": "#%%\n"
    }
   },
   "execution_count": null,
   "outputs": []
  }
 ],
 "metadata": {
  "kernelspec": {
   "display_name": "Python 3",
   "language": "python",
   "name": "python3"
  },
  "language_info": {
   "codemirror_mode": {
    "name": "ipython",
    "version": 2
   },
   "file_extension": ".py",
   "mimetype": "text/x-python",
   "name": "python",
   "nbconvert_exporter": "python",
   "pygments_lexer": "ipython2",
   "version": "2.7.6"
  }
 },
 "nbformat": 4,
 "nbformat_minor": 0
}