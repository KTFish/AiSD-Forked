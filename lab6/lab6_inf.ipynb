{
 "cells": [
  {
   "cell_type": "markdown",
   "metadata": {
    "collapsed": true,
    "pycharm": {
     "name": "#%% md\n"
    }
   },
   "source": [
    "# Lab 6 - Binary Search Tree (BST)\n",
    "\n",
    "Binarne drzewo poszukiwań - dynamiczna struktura danych w postaci drzewa binarnego,\n",
    "gdzie dla każdego węzła niebędącego liściem\n",
    "lewe poddrzewo zawiera elementy o wartościach węzła mniejszych od wartości bieżącego węzła,\n",
    "a prawe poddrzewo zawieta elementy o wartościach większych od wartości bieżącego węzła.\n",
    "\n",
    "## Przykładowe drzewo poszukiwań\n",
    "\n",
    "![tree](bst.png)\n",
    "\n",
    "## Wyszukiwanie wartości węzła w drzewie\n",
    "\n",
    "Wyszukiwanie wartości węzła w drzewie odbywa się poprzez porównywanie\n",
    "wartości szukanej z wartością bieżącego węzła. Jeżeli wartość jest różna,\n",
    "to należy skierować się do lewego dziecka w przypadku gdy poszukiwana wartośc jest mniejsza,\n",
    "w przeciwnym przypadku do prawego dziecka.\n",
    "\n",
    "Przykład:\n",
    "\n",
    "![tree_search](find_4.png)\n",
    "\n",
    "## Dodawanie nowego węzła\n",
    "\n",
    "Nowe węzły wstawiane są w odpowiednim miejscu drzewa, w taki sposób, aby\n",
    "wartość lewego dziecka była mniejsza od rodzica, a wartość prawego dziecka była większa od rodzica.\n",
    "\n",
    "Pdeudokod metody insert(from: BinaryNode, val: Any):\n",
    "1. Niech from oznacza węzeł początkowy (lub bieżący w wywołaniu rekurencyjnym), a val oznacza wartość do wstawienia\n",
    "2. Jeżeli val jest mniejsza od wartości from, to lewy węzeł dodać rekurencyjnie:\n",
    "from.left_child = insert(from.left_child, val)\n",
    "3. Jeżeli val jest większa lub równa od wartości from, to prawy dodać rekurencyjnie:\n",
    "from.right_child = insert(from.right_child, val)\n",
    "4. Zwróć node\n",
    "\n",
    "## Usuwanie węzła\n",
    "\n",
    "Procedura usuwania węzła zazwyczaj wymaga reorganizacji drzewa. Wyjątkiem jest usuwanie liścia.\n",
    "Gdy usuwany węzeł ma jedno dziecko, to zostaje nim zastąpiony.\n",
    "Jeżeli usuwany węzeł ma dwoje dzieci, to zastępuje go węzeł o wartości, która jest jego następnikiem w danym porządku.\n",
    "\n",
    "Usuwanie węzłów ogólny algorytm:\n",
    "Aby usunąć węzeł aktualny nodeAct należy sprawdzić, który warunek tu występuje:\n",
    "1. jeżeli nodeAct nie ma dzieci, wtedy po prostu się go usuwa. Oczywiście należy zadbać, by rodzić przestał odwoływać się do nodeAct (usunąć dowiązanie do prawego albo lewego dziecka rodzica).\n",
    "2. jeżeli nodeAct ma jedno dziecko, wtedy to jedno dziecko awansuje i  zajmuje miejsce obecnego elementu node.\n",
    "3. jeżeli nodeAct ma dwójkę dzieci, wtedy niech nodeRepl to najbardziej na lewo wysunięty element będący prawym dzieckiem nodeAct albo jego potomkiem. W przypadku, gdy BST zawiera liczby, wtedy po prostu należy znaleźć węzeł z najmniejszą wartością > niż wartość nodeAct. Najłatwiej to zrobić przechodząc do prawego potomka nodeAct, czyli nodeRepl = nodeAct.right_child, następnie kolejno przechodzić do kolojnych lewych potomków tego tego węzła, dopóki się da: nodeRepl = nodeRepl.left_child.\n",
    "3.1. jeśli nodeRepl jest liściem, wtedy należy przekopiować wartość z  nodeRepl do nodeAct i usunąć nodeRepl (patrz punkt 1.)\n",
    "3.2. jeśli nodeRepl ma prawe dziecko, wtedy należy przekopiować wartość z  nodeRepl do nodeAct i usunąć nodeRepl (patrz punkt 2.)\n",
    "## Zadania\n",
    "1. Implementacja binarnego drzewa poszukiwań (BST)\n",
    "\n",
    "Używając poniższych wskazówek zaimplementować klasę binarnego drzewa poszukiwań\n",
    "\n",
    "### Klasa BinaryNode"
   ]
  },
  {
   "cell_type": "code",
   "execution_count": null,
   "outputs": [],
   "source": [
    "from typing import Any\n",
    "\n",
    "class BinaryNode:\n",
    "    value: Any\n",
    "    left_child: 'BinaryNode'\n",
    "    right_child: 'BinaryNode'"
   ],
   "metadata": {
    "collapsed": false,
    "pycharm": {
     "name": "#%%\n"
    }
   }
  },
  {
   "cell_type": "markdown",
   "source": [
    "Klasa odpowiedzialna jest za binarny węzeł drzewa, w ktorym przechowywana jest wartość oraz lewe i prawe dziecko.\n",
    "\n",
    "W klasie umieścić następujące metody:\n",
    "- inicjalizator, który ustawi wartośc bieżącego węzła\n",
    "- metoda min() -> BinaryNode, która zwróci węzeł z najmniejszą wartością biorąc pod uwagę siebie i swoich potomków\n",
    "\n",
    "### Klasa BinarySearchTree"
   ],
   "metadata": {
    "collapsed": false,
    "pycharm": {
     "name": "#%% md\n"
    }
   }
  },
  {
   "cell_type": "code",
   "execution_count": null,
   "outputs": [],
   "source": [
    "class BinarySearchTree:\n",
    "    root: BinaryNode"
   ],
   "metadata": {
    "collapsed": false,
    "pycharm": {
     "name": "#%%\n"
    }
   }
  },
  {
   "cell_type": "markdown",
   "source": [
    "Klasa BinarySearchTree jest odpowiedzialna za przechowywanie całej struktury binarnego drzewa poszukiwań,\n",
    "gdzie root wskazuje węzeł będący korzeniem.\n",
    "\n",
    "W klasie umieścić następujące metody:\n",
    "- insert(self, value: Any) -> None, która doda nowy węzeł wywołując metodę prywatną _insert, a następnie zwróci nową\n",
    "strukturę drzewa i ustawi ją jako korzeń\n",
    "- _insert(self, node: BinaryNode, value: Any) -> BinaryNode, która doda nowy węzeł\n",
    "- insert_list(self, list_: List[Any]) -> None, która doda seryjnie wiele węzłów do drzewa za pomocą wielokrotnego\n",
    "wywoływania metody insert\n",
    "- contains(self, value: Any) -> bool, która sprawdzi czy w drzewie znajduje się węzeł o wskazanej wartości\n",
    "- remove(self, value: Any) -> None, która usunie węzeł z drzewa wywołując metodę prywatną _remove, a następnie zwróci\n",
    "nową strukturę drzewa i ustawi ją jako korzeń\n",
    "- _remove(self, node: BinaryNode, value: Any) -> BinaryNode, która usunie węzeł node albo jego potomka\n",
    "- show() -> None, która wyświetli drzewo w formie graficznej lub tekstowej, można użyć w tym celu bibliotek zewnętrznych\n",
    "\n",
    "\n"
   ],
   "metadata": {
    "collapsed": false,
    "pycharm": {
     "name": "#%% md\n"
    }
   }
  }
 ],
 "metadata": {
  "kernelspec": {
   "display_name": "Python 3",
   "language": "python",
   "name": "python3"
  },
  "language_info": {
   "codemirror_mode": {
    "name": "ipython",
    "version": 2
   },
   "file_extension": ".py",
   "mimetype": "text/x-python",
   "name": "python",
   "nbconvert_exporter": "python",
   "pygments_lexer": "ipython2",
   "version": "2.7.6"
  }
 },
 "nbformat": 4,
 "nbformat_minor": 0
}
