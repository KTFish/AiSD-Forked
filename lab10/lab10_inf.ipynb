{
 "cells": [
  {
   "cell_type": "markdown",
   "metadata": {
    "collapsed": true,
    "pycharm": {
     "name": "#%% md\n"
    }
   },
   "source": [
    "# Lab 10 - wyszukiwanie binarne\n",
    "\n",
    "Algorytm wyszukiwania binarnego (binary search) to algorytm stanowiący adaptację metody dziel i zwyciężaj w wyszukiwaniu\n",
    "elementów w pewnej uporządkowanej tablicy bądź liście. Algorytm charakteryzuje niska złożoność obliczeniowa: $O(log_2 N)$.\n",
    "\n",
    "Zasada działania algorytmu polega na dzieleniu tablicy wejściowej na coraz mniejsze przedziały, a następnie na sprawdzaniu\n",
    "czy w środku takiego przedziału znajduje się szukany element. Na podstawie relacji szukanego elementu względem\n",
    "granic, przedział jest przesuwany w odpowiednią stronę.\n",
    "\n",
    "## Pseudokod funkcji wyszukującej metodą binary search:\n",
    "- niech numbers będzie tablicą uporządkowaną tablicą wartości, a value będzie wartością szukaną\n",
    "- niech początkiem przedziału będzie pierwszy indeks tablicy wejściowej, a końcem przedziału ostatni indeks tej tablicy\n",
    "- while początek przedziału <= koniec przedziału:\n",
    "    - środkiem przedziału (middle) będzie wartość wyrażenia (początek przedziału + koniec przedziału) / 2\n",
    "    - jeżeli wartość tablicy numbers na pozycji middle jest równa value, to zwróć jej pozycję (i wartość True) oraz zakończ pętlę; element został znaleziony\n",
    "    - jeżeli wartość tablicy numbers na pozycji middle jest mniejsza od value, to zwiększ początek przedziału wyszukiwania o 1\n",
    "    - jeżeli wartość tablicy numbers na pozycji middle jest większa od value, to zmniejsz koniec przedziału wyszukiwania o 1\n",
    "- zwróć pozycję, która nie występuje na liście, np. -1 (i wartośc False) - element nie został odnaleziony\n",
    "\n",
    "## Zadanie\n",
    "\n",
    "Zaimplementować przy użyciu powyższego pseudokodu funkcję binary_search(numbers: Array, value: int) -> Tuple[bool, int],\n",
    "która zwróci wartość True oraz pozycję jeżeli dany element zostanie odnaleziony w tablicy wejściowej."
   ]
  },
  {
   "cell_type": "code",
   "execution_count": null,
   "outputs": [],
   "source": [
    "from array import array\n",
    "from ctypes import Array\n",
    "from typing import Tuple\n",
    "\n",
    "\n",
    "def binary_search(numbers: Array, value: int) -> Tuple[bool, int]:\n",
    "    # operacje wyszukiwania\n",
    "    # ...\n",
    "\n",
    "    return False, -1  # wartosc nie zostala znaleziona\n",
    "\n",
    "\n",
    "ints = array('I', [1, 5, 6, 7, 10, 26, 29, 40])\n",
    "\n",
    "result = binary_search(ints, 7)"
   ],
   "metadata": {
    "collapsed": false,
    "pycharm": {
     "name": "#%%\n"
    }
   }
  }
 ],
 "metadata": {
  "kernelspec": {
   "display_name": "Python 3",
   "language": "python",
   "name": "python3"
  },
  "language_info": {
   "codemirror_mode": {
    "name": "ipython",
    "version": 2
   },
   "file_extension": ".py",
   "mimetype": "text/x-python",
   "name": "python",
   "nbconvert_exporter": "python",
   "pygments_lexer": "ipython2",
   "version": "2.7.6"
  }
 },
 "nbformat": 4,
 "nbformat_minor": 0
}