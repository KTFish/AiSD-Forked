{
 "cells": [
  {
   "cell_type": "markdown",
   "metadata": {
    "collapsed": true,
    "pycharm": {
     "name": "#%% md\n"
    }
   },
   "source": [
    "# Lab 4 - drzewa\n",
    "\n",
    "Drzewa są abstrakcyjną strukturą danych służącą do przechowywania danych w sposób hierarchiczny.\n",
    "Drzewa składają się z węzłów, które mają rodzica i dzieci. Szczególnym przypadkiem węzła są: korzeń, który nie posiada rodzica oraz liście, które nie posiadają dzieci.\n",
    "\n",
    "Przykład drzewa może stanowić strona internetowa zakodowana przy użyciu języka HTML.\n",
    "\n",
    "## Przykładowe drzewo\n",
    "\n",
    "![tree](tree.png)\n",
    "\n",
    "## Przechodzenie po drzewie\n",
    "\n",
    "Każda z metod definiuje odrębną kolejność odwiedzania węzłów w drzewie począwszy od korzenia.\n",
    "\n",
    "### Level order\n",
    "- bieżący węzeł\n",
    "- wszystkie dzieci bieżącego węzła\n",
    "- wszystkie dzieci każdego z dzieci bieżącego węzła\n",
    "\n",
    "Dla przykładowego drzewa kolejność będzie następująca:F, B, G, A, D, I, C, E, H\n",
    "\n",
    "### Deep first\n",
    "1. bieżący węzeł\n",
    "2. pierwsze dziecko\n",
    "    - pierwsze dziecko pierwszego dziecka\n",
    "    - w ten sposób docieramy do liścia i wracamy do punktu 2 odwiedzając kolejne dziecko\n",
    "\n",
    "Dla przykładowego drzewa kolejność będzie następująca: F, B, A, D, C, E, G, I, H\n",
    "\n",
    "\n",
    "## Zadanie\n",
    "\n",
    "Używając poniższych wskazówek zaimplementować strukturę drzewa\n",
    "\n",
    "### Klasa TreeNode"
   ]
  },
  {
   "cell_type": "code",
   "execution_count": null,
   "outputs": [],
   "source": [
    "from typing import Any, List\n",
    "\n",
    "class TreeNode:\n",
    "    value: Any\n",
    "    children: List['TreeNode']"
   ],
   "metadata": {
    "collapsed": false,
    "pycharm": {
     "name": "#%%\n"
    }
   }
  },
  {
   "cell_type": "markdown",
   "source": [
    "Klasa odpowiedzialna jest za węzeł drzewa, w ktorym przechowywana jest wartość oraz rodzic i dzieci.\n",
    "\n",
    "W klasie należy umieścić następujące metody:\n",
    "- is_leaf(), która sprawdzi czy węzeł jest liściem\n",
    "- add(child: 'TreeNode'), która doda węzeł przyjęty w argumencie jako dziecko\n",
    "- for_each_deep_first(self, visit: Callable[['TreeNode'], None]), która wykona operację przechodzenia po węzłach\n",
    "    metodą deep first według następujących instrukcji:\n",
    "    - odwiedź bieżący wierzchołek i wykonaj na nim funkcję visit (przyjętą w parametrze)\n",
    "    - dla wszystkich dzieci bieżącego węzła wykonaj metodę for_each_deep_first()\n",
    "- for_each_level_order(self, visit: Callable[['TreeNode'], None]), która wykona operację przechodzenia po węzłach\n",
    "    metodą level order według następujących instrukcji:\n",
    "    - odwiedź bieżący wierzchołek i wykonaj na nim funkcję visit (przyjętą w parametrze)\n",
    "    - wszystkie dzieci bieżącego węzła dodaj do pustej kolejki FIFO\n",
    "    - dopóki kolejka nie jest pusta, dla każdego pierwszego elementu w kolejce (element)\n",
    "        - odwiedź element\n",
    "        - dodaj do kolejki wszystkie węzły, których rodzicem jest element\n",
    "- search(value: Any), która sprawdzi czy bieżący węzeł lub jego dzieci zawierają wartość podaną w parametrze, przy użyciu dowolnej metody przechodzenia po węzłach\n",
    "- wywołanie funkcji print na węźle spowoduje wyświetlenie jego wartości\n",
    "\n",
    "### Klasa Tree"
   ],
   "metadata": {
    "collapsed": false,
    "pycharm": {
     "name": "#%% md\n"
    }
   }
  },
  {
   "cell_type": "code",
   "execution_count": null,
   "outputs": [],
   "source": [
    "class Tree:\n",
    "    root: TreeNode"
   ],
   "metadata": {
    "collapsed": false,
    "pycharm": {
     "name": "#%%\n"
    }
   }
  },
  {
   "cell_type": "markdown",
   "source": [
    "Klasa Tree jest odpowiedzialna za przechowywanie całej struktury drzewa, gdzie root wskazuje węzeł będący korzeniem.\n",
    "\n",
    "W klasie należy umieścić następujące metody:\n",
    "- metoda add(self, value: Any, parent_value: Any) doda nowe dziecko z wartością przekazaną w parametrze value, którego rodzicem będzie węzeł przekazany w parametrze parent_value\n",
    "- metoda for_each_level_order wykona operację przechodzenia po węzłach metodą level order, rozpoczynając od korzenia\n",
    "- metoda for_each_deep_first wykona operację przechodzenia po węzłach metodą deep first, rozpoczynając od korzenia\n",
    "- (dla chętnych) metoda show wyświetli drzewo w formie graficznej, można użyć w tym celu bibliotek zewnętrznych\n",
    "\n",
    "\n",
    "Utworzyć obiekt klasy Tree odzwierciedlający przykładowe drzewo z pliku tree.png\n",
    "\n",
    "\n"
   ],
   "metadata": {
    "collapsed": false,
    "pycharm": {
     "name": "#%% md\n"
    }
   }
  }
 ],
 "metadata": {
  "kernelspec": {
   "display_name": "Python 3",
   "language": "python",
   "name": "python3"
  },
  "language_info": {
   "codemirror_mode": {
    "name": "ipython",
    "version": 2
   },
   "file_extension": ".py",
   "mimetype": "text/x-python",
   "name": "python",
   "nbconvert_exporter": "python",
   "pygments_lexer": "ipython2",
   "version": "2.7.6"
  }
 },
 "nbformat": 4,
 "nbformat_minor": 0
}