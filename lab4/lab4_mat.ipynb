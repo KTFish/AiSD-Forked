{
 "cells": [
  {
   "cell_type": "markdown",
   "metadata": {
    "collapsed": true,
    "pycharm": {
     "name": "#%% md\n"
    }
   },
   "source": [
    "# Lab 2 - listy, kolejki, stosy\n",
    "\n",
    "## Lista jednokierunkowa\n",
    "\n",
    "Lista jednokierunkowa (linked list) jest sekwencją połączonych ze sobą węzłów.\n",
    "Każdy z nich zawiera wartość (data lub value) oraz wskaźnik do następnego elementu (next).\n",
    "Wskaźnikiem do pierwszege elementu listy jest head, a wskaźnikiem do ostatniego elementu jest tail.\n",
    "\n",
    "Przykładowe listy:\n",
    "- [1, 7, 9, 4, 2, 6]\n",
    "- ['hello', 'world']\n",
    "\n",
    "Schemat listy:\n",
    "![list](../lab2/linked_list.png)\n",
    "\n",
    "Lista jednokierunkowa posiada wskaźnik jedynie do następnego węzła, zatem przejście po takiej liście\n",
    "jest możliwe tylko w jednym kierunku (od pierwszego do ostatniego węzła).\n",
    "\n",
    "Język Python zawiera pełne wsparcie dla list, które są obiektami klasy list.\n",
    "Przy pracy z listami przydatne mogą być następujące metody wywoływane na obiekcie listy:\n",
    "- append() - dodaje nowy element (przekazany w argumencie) na końcu listy\n",
    "- copy() - zwraca kopię listy\n",
    "- count() - zwraca liczbę elementów w liście\n",
    "- pop() - zwraca i usuwa element o pozycji przekazanej w argumencie\n",
    "\n",
    "## Kolejka FIFO\n",
    "\n",
    "Kolejka (queue) jest liniową strukturą danych, która obsługuje elementy w ustalonej kolejności.\n",
    "Kolejka FIFO (First Input First Output) dodaje nowe elementy na końcu.\n",
    "Do dalszego przetwarzania pobierane są elementy znajdujące się na początku.\n",
    "\n",
    "Schemat kolejki:\n",
    "![queue](../lab2/queue.png)\n",
    "\n",
    "Przykład kolejki:\n",
    "- [] - pusta kolejka\n",
    "- [7] - dodany nowy element do kolejki o wartości 7\n",
    "- [7, 4] - dodany nowy element do kolejki o wartości 4\n",
    "- [7, 4, 5] - dodany nowy element do kolejki o wartości 5\n",
    "- [4, 5] - zdjęty element z kolejki do dalszego przetwarzania\n",
    "- [5] - zdjęty element z kolejki do dalszego przetwarzania\n",
    "- [5, 2] - dodany nowy element do kolejki o wartości 2\n",
    "\n",
    "## Stos\n",
    "Stos jest kolejką typu LIFO (Last Input First Output), gdzie nowe elementy dodawane są na końcu.\n",
    "Do dalszego przetwarzania pobierane są elementy, które znajdują się na końcu kolejki (zostały dodane jako ostatnie).\n",
    "Kolejka LIFO nosi nazwę stosu ze względu na analogię do stosu dowolnych elementów, np. książek.\n",
    "Nowe elementy dodawane są na szczycie i jako pierwsze zdejmowane są elementy ze szczytu - trudno jest zdjąć książkę,\n",
    "która znajduje się na spodzie stosu.\n",
    "\n",
    "Schemat stosu:\n",
    "![stack](../lab2/stack.png)\n",
    "\n",
    "Przykład stosu:\n",
    "- [] - pusty stos\n",
    "- [9] - dodany nowy element do stosu o wartości 9\n",
    "- [9, 3] - dodany nowy element do stosu o wartości 3\n",
    "- [9, 3, 6] - dodany nowy element do stosu o wartości 6\n",
    "- [9, 3] - zdjęty element ze stosu\n",
    "- [9] - zdjęty element ze stosu\n",
    "- [9, 2] - dodany nowy element do stosu o wartości 2\n",
    "\n",
    "## Schemat implementacji kolejki\n",
    "\n",
    "Poniższy schemat znajduje zastosowanie w przypadku implementacji kolejki typu FIFO oraz LIFO."
   ]
  },
  {
   "cell_type": "code",
   "execution_count": null,
   "outputs": [],
   "source": [
    "class Queue:\n",
    "    def __init__(self):\n",
    "        # atrybut storage jest wewnetrznym buforem wartosci przechowywanych w kolejce\n",
    "        self.storage = []\n",
    "\n",
    "    def dequeue(self):\n",
    "        # proces zdejmowania z kolejki pierwszego elementu\n",
    "        # ...\n",
    "        return"
   ],
   "metadata": {
    "collapsed": false,
    "pycharm": {
     "name": "#%%\n"
    }
   }
  },
  {
   "cell_type": "markdown",
   "source": [
    "## Zadania\n",
    "1. Utworzyć klasę Queue, która będzie odpowiedzialna za reprezentację kolejki typu FIFO.\n",
    "W klasie umieścić następujące metody:\n",
    "    - is_empty, która zwróci wartość logiczną prawdziwą jeżeli kolejka jest pusta, a w przeciwnym wypadku fałszywą\n",
    "    - enqueue, która doda nową wartość (przyjętą w argumencie) na końcu kolejki\n",
    "    - peek, która zwróci wartość znajdującą się na początku kolejki (ale jeszcze jej nie zdejmie)\n",
    "    - dequeue, która zdejmie z kolejki i zwróci wartość znajdującą się na początku bufora;\n",
    "    w przypadku pustej kolejki metoda powinna zwracać None\n",
    "    - count, która zwróci liczbę elementów znajdujących się w kolejce\n",
    "    - show, która wyswietli zawartość kolejki\n",
    "2. Utworzyć klasę Stack, która będzie odpowiedzialna za reprezentację stosu (kolejki typu LIFO).\n",
    "W klasie umieścić następujące metody:\n",
    "    - is_empty, która zwróci wartość logiczną prawdziwą jeżeli stos jest pusty, a w przeciwnym wypadku fałszywą\n",
    "    - push, która doda nową wartość (przyjętą w argumencie) na szczycie stosu\n",
    "    - pop, która zdejmie i zwróci najnowszy element ze stosu (znajdujący się na końcu bufora)\n",
    "    - count, która zwróci liczbę elementów znajdujących się na stosie\n",
    "    - show, która wyswietli zawartość stosu\n",
    "3. Przygotować funkcję, która przy użyciu dowolnej kolejki sprawdzi czy przekazane w argumencie słowo jest palindromem\n",
    "i zwróci odpowiednią wartość logiczną.\n"
   ],
   "metadata": {
    "collapsed": false,
    "pycharm": {
     "name": "#%% md\n"
    }
   }
  }
 ],
 "metadata": {
  "kernelspec": {
   "display_name": "Python 3",
   "language": "python",
   "name": "python3"
  },
  "language_info": {
   "codemirror_mode": {
    "name": "ipython",
    "version": 2
   },
   "file_extension": ".py",
   "mimetype": "text/x-python",
   "name": "python",
   "nbconvert_exporter": "python",
   "pygments_lexer": "ipython2",
   "version": "2.7.6"
  }
 },
 "nbformat": 4,
 "nbformat_minor": 0
}