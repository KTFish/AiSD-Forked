{
 "cells": [
  {
   "cell_type": "markdown",
   "metadata": {
    "collapsed": true,
    "pycharm": {
     "name": "#%% md\n"
    }
   },
   "source": [
    "# Lab 3 - podstawy programowania obiektowego\n",
    "\n",
    "Python należy do rodziny języków zorientowanych obiektowo,\n",
    "co oznacza że z powodzeniem wspiera obiektowy paradygmat programowania.\n",
    "W języku python (prawie) wszystko jest obiektem, łącznie z wartościami liczbowymi, czy funkcjami.\n",
    "\n",
    "Klasę można rozumieć jako pewien projekt, np. projekt budowy domu.\n",
    "Według projektu można stworzyć wiele instancji takiego domu (wybudować go), czyli obiekt.\n",
    "\n",
    "\n",
    "## Przykład prostej klasy\n",
    "\n",
    "Klasa projektu domu, który posiada jedynie liczbę okien, domyślnie wynoszącą 10.\n",
    "Liczba okien w klasie MyHouse jest przykładem atrybutu klasy, czyli zmiennej, która w każdej instancji\n",
    "klasy jest niezależna względem innych instancji."
   ]
  },
  {
   "cell_type": "code",
   "execution_count": 1,
   "outputs": [],
   "source": [
    "class MyHouse:\n",
    "    windows = 10"
   ],
   "metadata": {
    "collapsed": false,
    "pycharm": {
     "name": "#%%\n"
    }
   }
  },
  {
   "cell_type": "markdown",
   "source": [
    "Według takiej klasy (projektu budowy domu) można utworzyć wiele instancji (realnych domów), czyli obiektów."
   ],
   "metadata": {
    "collapsed": false,
    "pycharm": {
     "name": "#%% md\n"
    }
   }
  },
  {
   "cell_type": "code",
   "execution_count": 2,
   "outputs": [],
   "source": [
    "house1 = MyHouse()\n",
    "house2 = MyHouse()\n",
    "house3 = MyHouse()"
   ],
   "metadata": {
    "collapsed": false,
    "pycharm": {
     "name": "#%%\n"
    }
   }
  },
  {
   "cell_type": "markdown",
   "source": [
    "Możemy teraz sprawdzić ile okien ma każdy z naszych trzech domów"
   ],
   "metadata": {
    "collapsed": false,
    "pycharm": {
     "name": "#%% md\n"
    }
   }
  },
  {
   "cell_type": "code",
   "execution_count": 3,
   "outputs": [
    {
     "name": "stdout",
     "output_type": "stream",
     "text": [
      "Liczba okien w domu 1: 10\n",
      "Liczba okien w domu 2: 10\n",
      "Liczba okien w domu 3: 10\n"
     ]
    }
   ],
   "source": [
    "print(f'Liczba okien w domu 1: {house1.windows}')\n",
    "print(f'Liczba okien w domu 2: {house2.windows}')\n",
    "print(f'Liczba okien w domu 3: {house3.windows}')"
   ],
   "metadata": {
    "collapsed": false,
    "pycharm": {
     "name": "#%%\n"
    }
   }
  },
  {
   "cell_type": "markdown",
   "source": [
    "Każdy z naszych 3 domów ma po 10 okien, które są ustawione \"na sztywno\". Możemy to zmienić."
   ],
   "metadata": {
    "collapsed": false,
    "pycharm": {
     "name": "#%% md\n"
    }
   }
  },
  {
   "cell_type": "code",
   "execution_count": 4,
   "outputs": [
    {
     "name": "stdout",
     "output_type": "stream",
     "text": [
      "Liczba okien w domu 1: 20\n",
      "Liczba okien w domu 2: 5\n",
      "Liczba okien w domu 3: 15\n"
     ]
    }
   ],
   "source": [
    "house1.windows = 20\n",
    "house2.windows = 5\n",
    "house3.windows = 15\n",
    "\n",
    "print(f'Liczba okien w domu 1: {house1.windows}')\n",
    "print(f'Liczba okien w domu 2: {house2.windows}')\n",
    "print(f'Liczba okien w domu 3: {house3.windows}')"
   ],
   "metadata": {
    "collapsed": false,
    "pycharm": {
     "name": "#%%\n"
    }
   }
  },
  {
   "cell_type": "markdown",
   "source": [
    "Teraz każdy z naszych 3 domów ma inną liczbę okien.\n",
    "\n",
    "## Inicjalizator\n",
    "\n",
    "Inicjalizator służy do nadawania własnych wartości atrybutom klas w momencie tworzenia ich instancji (obiektów).\n",
    "Inicjalizator jest funkcją o nazwie \\_\\_init\\_\\_(), która jest umieszczona wewnątrz klasy.\n",
    "Funkcja ta - tak jak inne funkcje - może przyjmować argumenty.\n",
    "\n",
    "Stwórzmy \"ciekawszy\" projekt domu, który będzie zawierał:\n",
    "- liczbę okien\n",
    "- liczbę drzwi\n",
    "- kolor elewacji\n",
    "\n",
    "Projekt tego domu umieścimy w klasie MyDreamHouse, która będzie zawierała atrybuty:\n",
    "- windows (liczba okien)\n",
    "- doors (liczba drzwi)\n",
    "- color (kolor elewacji)\n",
    "- age (wiek domu, tuż po wybudowaniu dom zawsze będzie miał 0 lat)\n",
    "\n",
    "Dodatkowo użyjemy inicjalizatora, który pozwoli nam spersonalizować nasz dom w momencie tworzenia obiektu (jego budowy).\n",
    "Wyjątkiem jest wiek domu.\n",
    "Tuż po wybudowaniu nie jesteśmy w stanie realnie zmienić jego wieku, gdyż zmienia się on sam z upływem czasu."
   ],
   "metadata": {
    "collapsed": false,
    "pycharm": {
     "name": "#%% md\n"
    }
   }
  },
  {
   "cell_type": "code",
   "execution_count": 5,
   "outputs": [],
   "source": [
    "class MyDreamHouse:\n",
    "    def __init__(self, window_count, door_count, color_name):\n",
    "        self.windows = window_count\n",
    "        self.doors = door_count\n",
    "        self.color = color_name\n",
    "        self.age = 0"
   ],
   "metadata": {
    "collapsed": false,
    "pycharm": {
     "name": "#%%\n"
    }
   }
  },
  {
   "cell_type": "markdown",
   "source": [
    "Mając już projekt wymarzonego domu, możemy stworzyć kilka obiektów według tego planu.\n",
    "Korzystając z inicjalizatora, możemy w momencie budowy spersonalizować ten dom.\n",
    "\n",
    "Niech domy będą następujące:\n",
    "- dream_house1 (dom 1): liczba okien - 6, liczba drzwi - 10, kolor - czerwony\n",
    "- dream_house2 (dom 2): liczba okien - 8, liczba drzwi - 5, kolor - zielony\n",
    "- dream_house3 (dom 3): liczba okien - 10, liczba drzwi - 15, kolor - niebieski"
   ],
   "metadata": {
    "collapsed": false,
    "pycharm": {
     "name": "#%% md\n"
    }
   }
  },
  {
   "cell_type": "code",
   "execution_count": 6,
   "outputs": [],
   "source": [
    "dream_house1 = MyDreamHouse(6, 10, 'red')\n",
    "dream_house2 = MyDreamHouse(8, 5, 'green')\n",
    "dream_house3 = MyDreamHouse(10, 15, 'blue')"
   ],
   "metadata": {
    "collapsed": false,
    "pycharm": {
     "name": "#%%\n"
    }
   }
  },
  {
   "cell_type": "markdown",
   "source": [
    "Mając już wybudowane 3 domy według nowego projektu, możemy wyswietlić ich atrybuty"
   ],
   "metadata": {
    "collapsed": false,
    "pycharm": {
     "name": "#%% md\n"
    }
   }
  },
  {
   "cell_type": "code",
   "execution_count": 7,
   "outputs": [
    {
     "name": "stdout",
     "output_type": "stream",
     "text": [
      "Dom marzen 1: liczba okien - 6, liczba drzwi - 10, kolor: red, wiek: 0\n",
      "Dom marzen 2: liczba okien - 8, liczba drzwi - 5, kolor: green, wiek: 0\n",
      "Dom marzen 3: liczba okien - 10, liczba drzwi - 15, kolor: blue, wiek: 0\n"
     ]
    }
   ],
   "source": [
    "print(f'Dom marzen 1: liczba okien - {dream_house1.windows}, liczba drzwi - {dream_house1.doors}, kolor: {dream_house1.color}, wiek: {dream_house1.age}')\n",
    "print(f'Dom marzen 2: liczba okien - {dream_house2.windows}, liczba drzwi - {dream_house2.doors}, kolor: {dream_house2.color}, wiek: {dream_house2.age}')\n",
    "print(f'Dom marzen 3: liczba okien - {dream_house3.windows}, liczba drzwi - {dream_house3.doors}, kolor: {dream_house3.color}, wiek: {dream_house1.age}')"
   ],
   "metadata": {
    "collapsed": false,
    "pycharm": {
     "name": "#%%\n"
    }
   }
  },
  {
   "cell_type": "markdown",
   "source": [
    "Wiemy już, że atrybuty reprezentują pewien stan wewnętrzny obiektu.\n",
    "Dom mogą charakteryzować atrybuty takie jak liczba okien, kolor, czy wiek.\n",
    "Pewne atrybuty mogą się z czasem zmieniać, przykładowo po wyburzeniu jednej ze ścian liczba drzwi może ulec zmniejszeniu.\n",
    "Po upływie czasu wiek domu ulega zwiększeniu. Modyfikacji tych atrybutów można dokonać bezpośrednio na obiekcie."
   ],
   "metadata": {
    "collapsed": false,
    "pycharm": {
     "name": "#%% md\n"
    }
   }
  },
  {
   "cell_type": "code",
   "execution_count": 8,
   "outputs": [],
   "source": [
    "dream_house1.doors = 5"
   ],
   "metadata": {
    "collapsed": false,
    "pycharm": {
     "name": "#%%\n"
    }
   }
  },
  {
   "cell_type": "markdown",
   "source": [
    "Po takiej modyfikacji 1. domu będzie on wyglądał następująco:"
   ],
   "metadata": {
    "collapsed": false,
    "pycharm": {
     "name": "#%% md\n"
    }
   }
  },
  {
   "cell_type": "code",
   "execution_count": 9,
   "outputs": [
    {
     "name": "stdout",
     "output_type": "stream",
     "text": [
      "Dom marzen 1: liczba okien - 6, liczba drzwi - 5, kolor: red, wiek: 0\n"
     ]
    }
   ],
   "source": [
    "print(f'Dom marzen 1: liczba okien - {dream_house1.windows}, liczba drzwi - {dream_house1.doors}, kolor: {dream_house1.color}, wiek: {dream_house1.age}')"
   ],
   "metadata": {
    "collapsed": false,
    "pycharm": {
     "name": "#%%\n"
    }
   }
  },
  {
   "cell_type": "markdown",
   "source": [
    "Reszta domów pozostała bez zmian:"
   ],
   "metadata": {
    "collapsed": false,
    "pycharm": {
     "name": "#%% md\n"
    }
   }
  },
  {
   "cell_type": "code",
   "execution_count": 10,
   "outputs": [
    {
     "name": "stdout",
     "output_type": "stream",
     "text": [
      "Dom marzen 2: liczba okien - 8, liczba drzwi - 5, kolor: green, wiek: 0\n",
      "Dom marzen 3: liczba okien - 10, liczba drzwi - 15, kolor: blue, wiek: 0\n"
     ]
    }
   ],
   "source": [
    "print(f'Dom marzen 2: liczba okien - {dream_house2.windows}, liczba drzwi - {dream_house2.doors}, kolor: {dream_house2.color}, wiek: {dream_house2.age}')\n",
    "print(f'Dom marzen 3: liczba okien - {dream_house3.windows}, liczba drzwi - {dream_house3.doors}, kolor: {dream_house3.color}, wiek: {dream_house1.age}')"
   ],
   "metadata": {
    "collapsed": false,
    "pycharm": {
     "name": "#%%\n"
    }
   }
  },
  {
   "cell_type": "markdown",
   "source": [
    "## Metody\n",
    "\n",
    "Modyfikacji stanu wewnętrznego obiektu można dokonać również w bardziej \"elegancki\" sposób - za pomocą metod.\n",
    "\n",
    "Metody są funkcjami, które operują tylko na atrybutach poszczególnego obiektu i mogą je modyfikować.\n",
    "Oznacza to, że wywołując pewną metodę na obiekcie domu 1., to odniesie się ona tylko i wyłącznie do wartości atrybutów tego obiektu.\n",
    "Pozostałe obiekty (domy) pozostaną bez zmian. Jeżeli metoda jest funkcją, to oznacza że może przyjmować dowolne argumenty.\n",
    "Inicjalizator (metoda \\_\\_init()\\_\\_) również jest metodą.\n",
    "\n",
    "Każda metoda posiada jeden dodatkowy argument (self), nawet jeżeli żadnych nie przyjmuje.\n",
    "Argument self musi być zawsze na początku listy argumentów danej metody i nie trzeba go przekazywać podczas wywoływania metody na obiekcie.\n",
    "Za pomocą argumentu self możemy odwołać się do stanu wewnętrznego obiektu z poziomu metody, która może być na nim wywołana.\n",
    "\n",
    "Stwórzmy 2 metody w klasie MyDreamHouse\n",
    "- metoda doors_and_windows zwróci zsumowaną liczebność drzwi i okien w danym domu\n",
    "- metoda age_it przyjmie w argumencie liczbowym ilośc lat i postarzy dom o ten czas przyjęty w argumencie"
   ],
   "metadata": {
    "collapsed": false,
    "pycharm": {
     "name": "#%% md\n"
    }
   }
  },
  {
   "cell_type": "code",
   "execution_count": 11,
   "outputs": [],
   "source": [
    "class MyDreamHouse:\n",
    "    def __init__(self, window_count, door_count, color_name):\n",
    "        self.windows = window_count\n",
    "        self.doors = door_count\n",
    "        self.color = color_name\n",
    "        self.age = 0\n",
    "\n",
    "    def doors_and_windows(self):\n",
    "        return self.windows + self.doors\n",
    "\n",
    "    def age_it(self, years):\n",
    "        self.age = self.age + years"
   ],
   "metadata": {
    "collapsed": false,
    "pycharm": {
     "name": "#%%\n"
    }
   }
  },
  {
   "cell_type": "markdown",
   "source": [
    "Mając już uaktualniony projekt budowy domu marzeń, możemy jeszcze raz stworzyć wedle niego 3 obiekty,"
   ],
   "metadata": {
    "collapsed": false,
    "pycharm": {
     "name": "#%% md\n"
    }
   }
  },
  {
   "cell_type": "code",
   "execution_count": 12,
   "outputs": [],
   "source": [
    "dream_house1 = MyDreamHouse(6, 10, 'red')\n",
    "dream_house2 = MyDreamHouse(8, 5, 'green')\n",
    "dream_house3 = MyDreamHouse(10, 15, 'blue')"
   ],
   "metadata": {
    "collapsed": false,
    "pycharm": {
     "name": "#%%\n"
    }
   }
  },
  {
   "cell_type": "markdown",
   "source": [
    "które wyglądają następująco"
   ],
   "metadata": {
    "collapsed": false,
    "pycharm": {
     "name": "#%% md\n"
    }
   }
  },
  {
   "cell_type": "code",
   "execution_count": 13,
   "outputs": [
    {
     "name": "stdout",
     "output_type": "stream",
     "text": [
      "Dom marzen 1: liczba okien - 6, liczba drzwi - 10, kolor: red, wiek: 0\n",
      "Dom marzen 2: liczba okien - 8, liczba drzwi - 5, kolor: green, wiek: 0\n",
      "Dom marzen 3: liczba okien - 10, liczba drzwi - 15, kolor: blue, wiek: 0\n"
     ]
    }
   ],
   "source": [
    "print(f'Dom marzen 1: liczba okien - {dream_house1.windows}, liczba drzwi - {dream_house1.doors}, kolor: {dream_house1.color}, wiek: {dream_house1.age}')\n",
    "print(f'Dom marzen 2: liczba okien - {dream_house2.windows}, liczba drzwi - {dream_house2.doors}, kolor: {dream_house2.color}, wiek: {dream_house2.age}')\n",
    "print(f'Dom marzen 3: liczba okien - {dream_house3.windows}, liczba drzwi - {dream_house3.doors}, kolor: {dream_house3.color}, wiek: {dream_house1.age}')"
   ],
   "metadata": {
    "collapsed": false,
    "pycharm": {
     "name": "#%%\n"
    }
   }
  },
  {
   "cell_type": "markdown",
   "source": [
    "Teraz za pomocą metody doors_and_windows, możemy sprawdzić ile drzwi i okien ma każdy z tych domów."
   ],
   "metadata": {
    "collapsed": false,
    "pycharm": {
     "name": "#%% md\n"
    }
   }
  },
  {
   "cell_type": "code",
   "execution_count": 14,
   "outputs": [
    {
     "name": "stdout",
     "output_type": "stream",
     "text": [
      "Liczba drzwi i okien w domu 1: 16\n",
      "Liczba drzwi i okien w domu 2: 13\n",
      "Liczba drzwi i okien w domu 3: 25\n"
     ]
    }
   ],
   "source": [
    "print(f'Liczba drzwi i okien w domu 1: {dream_house1.doors_and_windows()}')\n",
    "print(f'Liczba drzwi i okien w domu 2: {dream_house2.doors_and_windows()}')\n",
    "print(f'Liczba drzwi i okien w domu 3: {dream_house3.doors_and_windows()}')"
   ],
   "metadata": {
    "collapsed": false,
    "pycharm": {
     "name": "#%%\n"
    }
   }
  },
  {
   "cell_type": "markdown",
   "source": [
    "Załóżmy, że minęły 2 lata od budowy tych 3 domów.\n",
    "Możemy teraz każdy z nich postarzeć o 2 lata za pomocą metody age_it."
   ],
   "metadata": {
    "collapsed": false,
    "pycharm": {
     "name": "#%% md\n"
    }
   }
  },
  {
   "cell_type": "code",
   "execution_count": 15,
   "outputs": [],
   "source": [
    "dream_house1.age_it(2)\n",
    "dream_house2.age_it(2)\n",
    "dream_house3.age_it(2)"
   ],
   "metadata": {
    "collapsed": false,
    "pycharm": {
     "name": "#%%\n"
    }
   }
  },
  {
   "cell_type": "markdown",
   "source": [
    "Zobaczmy, jak każdy z nich zmienił się przez ten czas:"
   ],
   "metadata": {
    "collapsed": false,
    "pycharm": {
     "name": "#%% md\n"
    }
   }
  },
  {
   "cell_type": "code",
   "execution_count": 16,
   "outputs": [
    {
     "name": "stdout",
     "output_type": "stream",
     "text": [
      "Dom marzen 1: liczba okien - 6, liczba drzwi - 10, kolor: red, wiek: 2\n",
      "Dom marzen 2: liczba okien - 8, liczba drzwi - 5, kolor: green, wiek: 2\n",
      "Dom marzen 3: liczba okien - 10, liczba drzwi - 15, kolor: blue, wiek: 2\n"
     ]
    }
   ],
   "source": [
    "print(f'Dom marzen 1: liczba okien - {dream_house1.windows}, liczba drzwi - {dream_house1.doors}, kolor: {dream_house1.color}, wiek: {dream_house1.age}')\n",
    "print(f'Dom marzen 2: liczba okien - {dream_house2.windows}, liczba drzwi - {dream_house2.doors}, kolor: {dream_house2.color}, wiek: {dream_house2.age}')\n",
    "print(f'Dom marzen 3: liczba okien - {dream_house3.windows}, liczba drzwi - {dream_house3.doors}, kolor: {dream_house3.color}, wiek: {dream_house1.age}')"
   ],
   "metadata": {
    "collapsed": false,
    "pycharm": {
     "name": "#%%\n"
    }
   }
  },
  {
   "cell_type": "markdown",
   "source": [
    "## Zadania\n",
    "\n",
    "1. Utworzyć klasę Square (kwadrat),\n",
    "która będzie zawierała inicjalizator ustawiający atrybut liczbowy side (długość boku),\n",
    "oraz metody:\n",
    "    - area, która zwróci pole tego kwadratu\n",
    "    - perimeter, która zwróci obwód tego kwadratu\n",
    "\n",
    "2. Utworzyć klasę Traingle (trójkąt),\n",
    "która będzie zawierała inicjalizator ustawiający atrybuty liczbowe:\n",
    "    - side (długość boku)\n",
    "    - height (wysokość),\n",
    "    - oraz metody:\n",
    "    - area, która zwróci pole tego trójkąta\n",
    "    - perimeter, która zwróci obwód tego trójkąta\n",
    "\n",
    "3. Za pomocą pętli utworzyć listy:\n",
    "    - 10 kwadratów dla długości boków od 11 do 20\n",
    "    - 25 trójkątów dla długości boków od 6 do 10 i wysokości od 15 do 19\n",
    "Wyświetlić pola i obwody kazdej z tych figur\n",
    "\n",
    "4. Utworzyć klasę Tree (drzewo), która będzie zawierała inicjalizator ustawiający następujące atrybuty:\n",
    "    - name (imię drzewa)\n",
    "    - height (wysokość drzewa \\[m\\])\n",
    "    - leafs (liczba liści),\n",
    "    - oraz metody:\n",
    "    - grow_up (rośnij wzwyż), która przyjmie argument liczbowy w postaci wysokości do dodania,\n",
    "a następnie zwiększy wysokość tego drzewa\n",
    "    - grow_wide (rośnij wszerz), która przyjmie argument liczbowy w postaci liczby nowych liści,\n",
    "    - show, która wyświetli na ekranie wszystkie parametry drzewa wraz z ich wartościami\n",
    "\n",
    "a następnie zwiększyć liczebność liści tego drzewa.\n",
    "Utworzyć 5 takich drzew (5 obiektów) i wyświetlić ich stan wewnętrzny."
   ],
   "metadata": {
    "collapsed": false,
    "pycharm": {
     "name": "#%% md\n"
    }
   }
  }
 ],
 "metadata": {
  "kernelspec": {
   "display_name": "Python 3",
   "language": "python",
   "name": "python3"
  },
  "language_info": {
   "codemirror_mode": {
    "name": "ipython",
    "version": 2
   },
   "file_extension": ".py",
   "mimetype": "text/x-python",
   "name": "python",
   "nbconvert_exporter": "python",
   "pygments_lexer": "ipython2",
   "version": "2.7.6"
  }
 },
 "nbformat": 4,
 "nbformat_minor": 0
}