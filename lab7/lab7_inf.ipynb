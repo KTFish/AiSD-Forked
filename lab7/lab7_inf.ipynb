{
 "cells": [
  {
   "cell_type": "markdown",
   "metadata": {
    "collapsed": true,
    "pycharm": {
     "name": "#%% md\n"
    }
   },
   "source": [
    "# Lab 7 - graf\n",
    "\n",
    "Graf to struktura danych przeznaczona do badania zależności pomiędzy obiektami.\n",
    "Graf składa się z węzłów (wierzchołków) połączonych krawędziami, w taki sposób że każda z nich\n",
    "łączy dwa wierzchołki.\n",
    "\n",
    "Każdy z wierzchołków grafu reprezentuje pewną wartość. Każda krawędź grafu może być oznaczona pewną wartością\n",
    "numeryczną (np. koszt podróży z wierzchołka A do wierzchołka B), która jest wagą tej krawędzi. Krawędź może również mieć dodatkowo nadany kierunek,\n",
    "a graf składający się z takich krawędzi jest grafem skierowanym.\n",
    "\n",
    "## Przykładowy graf\n",
    "\n",
    "![graph](graph.png)\n",
    "\n",
    "## Przechodzenie po grafie\n",
    "\n",
    "Istnieją dwie metody przechodzenia po grafie skierowanym: w głąb i wszerz.\n",
    "Każda z nich definiuje odrębny sposób odwiedzania wierzchołków.\n",
    "\n",
    "### Breadth First traversal (przechodzenie wszerz)\n",
    "\n",
    "Odwiedzanie rozpoczynamy od wierzchołka początkowego.\n",
    "Następnie odwiedzamy wszystkich jego sąsiadów.\n",
    "Dalej odwiedzamy wszystkich nieodwiedzonych sąsiadów wierzchołków sąsiadujących z wierzchołkiem początkowym, itd.\n",
    "\n",
    "Pseudokod:\n",
    "- odwiedzanie rozpoczynamy od pierwszego wierzchołka i dodajemy go do listy odwiedzonych wierzchołków oraz do kolejki\n",
    "- dopóki kolejka nie jest pusta:\n",
    "    - niech v będzie pierwszym wierzchołkiem pobranym z kolejki\n",
    "    - odwiedzamy wierzchołek v\n",
    "    - dla każdego wierzchołka sąsiadującego z v:\n",
    "        - jeżeli nie został odwiedzony, to dodajemy go do listy odwiedzonych i umieszczamy go w kolejce\n",
    "\n",
    "Kolejność odwiedzania przykładowego grafu: v0, v1, v5, v2, v3, v4\n",
    "\n",
    "### Deep First Traversal\n",
    "\n",
    "Odwiedzanie rozpoczynamy od wierzchołka początkowego.\n",
    "Następnie przechodzimy do sąsiadów wierzchołka początkowego i je również oznaczamy jako odwiedzone.\n",
    "Operację kończymy gdy zostaną odwiedzone tym sposobem wszystkie wierzchołki.\n",
    "\n",
    "Pseudokod:\n",
    "- niech funkcja dfs(v: Vertex, visited: List[Vertex], visit: Callable[[Any]) dokonuje przechodzenia po grafie\n",
    "    - niech v będzie wierzchołkiem początkowym, a visited pustą listą odwiedzonych wierzchołków\n",
    "- odwiedzamy v\n",
    "- dla każdego wierzchołka sąsiadującego z v (neighbour):\n",
    "    - jeżeli nie został odwiedzony, to wywołujemy funkcję dfs(neighbour, visited, visit)\n",
    "\n",
    "Kolejność odwiedzania przykładowego grafu: v0, v1, v5, v2, v3, v4\n",
    "\n",
    "## Zadania\n",
    "\n",
    "1. Zaimplementować graf korzystając z proponowanych struktur klas skłądowych\n",
    "\n",
    "Klasa enumeratora zawierającego typy krawędzi"
   ]
  },
  {
   "cell_type": "code",
   "execution_count": null,
   "outputs": [],
   "source": [
    "from enum import Enum\n",
    "\n",
    "\n",
    "class EdgeType(Enum):\n",
    "    directed = 1\n",
    "    undirected = 2"
   ],
   "metadata": {
    "collapsed": false,
    "pycharm": {
     "name": "#%%\n"
    }
   }
  },
  {
   "cell_type": "markdown",
   "source": [
    "Klasa przechowująca węzły grafu:"
   ],
   "metadata": {
    "collapsed": false,
    "pycharm": {
     "name": "#%% md\n"
    }
   }
  },
  {
   "cell_type": "code",
   "execution_count": null,
   "outputs": [],
   "source": [
    "from typing import Any\n",
    "\n",
    "class Vertex:\n",
    "    data: Any\n",
    "    index: int"
   ],
   "metadata": {
    "collapsed": false,
    "pycharm": {
     "name": "#%%\n"
    }
   }
  },
  {
   "cell_type": "markdown",
   "source": [
    "gdzie data oznacza wartość przechowywaną w grafie, a index będzie numerem pozycji na liście sąsiedztwa.\n",
    "\n",
    "Klasa przechowująca krawędzie grafu:"
   ],
   "metadata": {
    "collapsed": false,
    "pycharm": {
     "name": "#%% md\n"
    }
   }
  },
  {
   "cell_type": "code",
   "execution_count": null,
   "outputs": [],
   "source": [
    "from typing import Optional\n",
    "\n",
    "class Edge:\n",
    "    source: Vertex\n",
    "    destination: Vertex\n",
    "    weight: Optional[float]"
   ],
   "metadata": {
    "collapsed": false,
    "pycharm": {
     "name": "#%%\n"
    }
   }
  },
  {
   "cell_type": "markdown",
   "source": [
    "gdzie wartość wagi krawędzi jest opcjonalna (może posiadać wartość None).\n",
    "\n",
    "Klasa przechowująca strukturę grafu:"
   ],
   "metadata": {
    "collapsed": false,
    "pycharm": {
     "name": "#%% md\n"
    }
   }
  },
  {
   "cell_type": "code",
   "execution_count": null,
   "outputs": [],
   "source": [
    "from typing import Dict, List\n",
    "\n",
    "class Graph:\n",
    "    adjacencies: Dict[Vertex, List[Edge]]"
   ],
   "metadata": {
    "collapsed": false,
    "pycharm": {
     "name": "#%%\n"
    }
   }
  },
  {
   "cell_type": "markdown",
   "source": [
    "W klasie umieścić następujące metody:\n",
    "- create_vertex(self, data: Any) -> Vertex, która doda nowy wierzchołek\n",
    "do słownika adjacencies jako klucz i pustą listę sąsiedztwa jako wartość\n",
    "\n",
    "- add_directed_edge(self, source: Vertex, destination: Vertex, weight: Optional[float] = None) -> None,\n",
    "która doda nową krawędź od wierzchołka source do wierzchołka destination i umieści ją\n",
    "w słowniku adjacencies w liście sąsiedztwa wierzchołka początkowego tej krawędzi\n",
    "\n",
    "- add_undirected_edge(self, source: Vertex, destination: Vertex, weight: Optional[float] = None) -> None,\n",
    "która stworzy krawędź skierowaną od source do destination i na odwrót\n",
    "\n",
    "- add(self, edge: EdgeType, source: Vertex, destination: Vertex, weight: Optional[float] = None) -> None,\n",
    "która w zależności od typu krawędzi w parametrze edge, doda nową krawędź w grafie\n",
    "\n",
    "- traverse_breadth_first(self, visit: Callable[[Any], None]) -> None,\n",
    "która wykona operację przechodzenia wszerz po grafie skierowanym. Wykorzystać własną implementację klasy Queue\n",
    "(kolejka, lab 2, zadanie 3)\n",
    "\n",
    "- traverse_depth_first(self, visit: Callable[[Any], None]) -> None,\n",
    "która wykona operację przechodzenia w głąb po grafie skierowanym\n",
    "\n",
    "- metoda show(), która wyświetli graf wraz ze skierowanymi lub nieskierowanymi krawędziami i ich wagami\n",
    "\n",
    "- wywołanie funkcji print() na grafie spowoduje wyświetlenie wszystkich wierzchołków grafu i ich sąsiadów\n",
    "\n",
    "Przykład:\n",
    "    - 0: v0 ----> [1: v1, 5: v5]\n",
    "    - 1: v1 ----> [0: v0, 5: v5, 2: v2, 4: v4]\n",
    "    - 2: v2 ----> [1: v1, 5: v5, 3: v3]\n",
    "    - 3: v3 ----> [4: v4, 2: v2]\n",
    "    - 4: v4 ----> [1: v1, 3: v3, 5: v5]\n",
    "    - 5: v5 ----> [0: v0, 1: v1, 2: v2, 4: v4]\n"
   ],
   "metadata": {
    "collapsed": false,
    "pycharm": {
     "name": "#%% md\n"
    }
   }
  }
 ],
 "metadata": {
  "kernelspec": {
   "display_name": "Python 3",
   "language": "python",
   "name": "python3"
  },
  "language_info": {
   "codemirror_mode": {
    "name": "ipython",
    "version": 2
   },
   "file_extension": ".py",
   "mimetype": "text/x-python",
   "name": "python",
   "nbconvert_exporter": "python",
   "pygments_lexer": "ipython2",
   "version": "2.7.6"
  }
 },
 "nbformat": 4,
 "nbformat_minor": 0
}
